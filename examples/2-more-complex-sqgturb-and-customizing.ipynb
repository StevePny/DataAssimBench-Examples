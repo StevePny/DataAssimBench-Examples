{
 "cells": [
  {
   "cell_type": "markdown",
   "id": "481fff02",
   "metadata": {},
   "source": [
    "# 2. Example: SQGTurb model and customizing model parameters\n",
    "\n",
    "In this notebook, we will use a more complex model known as a \"surface quasi-geostrophic turbulence\" model, or SQGTurb. \n",
    "\n",
    "We'll also learn about customizing model parameters, but remember that this isn't necessary: all of the data generators in dabench have sensible defaults. "
   ]
  },
  {
   "cell_type": "markdown",
   "id": "6215e038",
   "metadata": {},
   "source": [
    "### Part I: Imports and visualizing our initial conditions\n",
    "\n",
    "As usual, we start by import \"data\" from the dabench package. We'll also import matplotlib to help us visualize.\n"
   ]
  },
  {
   "cell_type": "code",
   "execution_count": null,
   "id": "5fa96278",
   "metadata": {},
   "outputs": [],
   "source": [
    "import matplotlib.pyplot as plt\n",
    "from dabench import data"
   ]
  },
  {
   "cell_type": "code",
   "execution_count": null,
   "id": "7fd4d329",
   "metadata": {},
   "outputs": [],
   "source": [
    "sqg_model = data.SQGTurb()"
   ]
  },
  {
   "cell_type": "code",
   "execution_count": null,
   "id": "26222566",
   "metadata": {},
   "outputs": [],
   "source": [
    "# The original_dim attribute stores the original dimensions of our system\n",
    "sqg_model.original_dim"
   ]
  },
  {
   "cell_type": "markdown",
   "id": "b1b181f9",
   "metadata": {},
   "source": [
    "In this case, our system has:\n",
    "- 2 vertical levels\n",
    "- 96 rows\n",
    "- 96 columns\n",
    "\n",
    "But SQGTurb is different from prevous models because it does the modeling in spectral space.\n",
    "\n",
    "If we look at our initial conditions, we'll see they're complex numbers with both real and imaginary parts.\n",
    "\n",
    "However, we can access the data in real, gridded space using \"x0_gridded\".\n",
    "\n",
    "This is true throughout DataAssimBench: \n",
    "- The .x0 and .values attributes let you access the values in the model/system space as a flat state vector with shape (system_dim,) or stack of state vectors with shape (time_dim, system_dim).\n",
    "- The .x0_gridded and .values_gridded provide the values in gridded dimensions. The shape and number of dimensions depends on the model.\n",
    "\n"
   ]
  },
  {
   "cell_type": "code",
   "execution_count": null,
   "id": "a17e2d04",
   "metadata": {},
   "outputs": [],
   "source": [
    "print(sqg_model.x0.shape)\n",
    "print(sqg_model.x0)"
   ]
  },
  {
   "cell_type": "code",
   "execution_count": null,
   "id": "b936fc44",
   "metadata": {},
   "outputs": [],
   "source": [
    "sqg_model.x0"
   ]
  },
  {
   "cell_type": "code",
   "execution_count": null,
   "id": "19e87194",
   "metadata": {},
   "outputs": [],
   "source": [
    "print(sqg_model.x0_gridded.shape) # 2 levels, 96 x 96\n",
    "print(sqg_model.x0_gridded)"
   ]
  },
  {
   "cell_type": "markdown",
   "id": "695ebd70",
   "metadata": {},
   "source": [
    "Now let's visualize the initial conditions using x0_gridded. It's a 2-level model, so we can use both: "
   ]
  },
  {
   "cell_type": "code",
   "execution_count": null,
   "id": "88381bd0",
   "metadata": {},
   "outputs": [],
   "source": [
    "fig, ax = plt.subplots(1, 2)\n",
    "fig.suptitle('SQG Model Initial State')\n",
    "ax[0].imshow(sqg_model.x0_gridded[0])\n",
    "ax[0].set_xlabel('x')\n",
    "ax[0].set_ylabel('y')\n",
    "ax[0].set_title('Level 0')\n",
    "ax[1].imshow(sqg_model.x0_gridded[1])\n",
    "ax[1].set_xlabel('x')\n",
    "ax[1].set_ylabel('y')\n",
    "ax[1].set_title('Level 1')\n",
    "fig.tight_layout()\n",
    "fig.subplots_adjust(top=1.2)\n",
    "plt.show()"
   ]
  },
  {
   "cell_type": "markdown",
   "id": "fcba539b",
   "metadata": {},
   "source": [
    "### Part II: Running SQG Model\n",
    "\n",
    "Let's run our model for 1000 timesteps. This may take a few seconds:"
   ]
  },
  {
   "cell_type": "code",
   "execution_count": null,
   "id": "4d95bf97",
   "metadata": {},
   "outputs": [],
   "source": [
    "sqg_model.generate(n_steps=1000)"
   ]
  },
  {
   "cell_type": "code",
   "execution_count": null,
   "id": "1adf78f1",
   "metadata": {},
   "outputs": [],
   "source": [
    "print(sqg_model.values.shape)\n",
    "print(sqg_model.values_gridded.shape)"
   ]
  },
  {
   "cell_type": "code",
   "execution_count": null,
   "id": "83e6db4f",
   "metadata": {},
   "outputs": [],
   "source": [
    "fig, ax = plt.subplots(1, 2)\n",
    "fig.suptitle('SQG Model Final State')\n",
    "ax[0].imshow(sqg_model.values_gridded[-1, 0])\n",
    "ax[0].set_xlabel('x')\n",
    "ax[0].set_ylabel('y')\n",
    "ax[0].set_title('Level 0')\n",
    "ax[1].imshow(sqg_model.values_gridded[-1, 1])\n",
    "ax[1].set_xlabel('x')\n",
    "ax[1].set_ylabel('y')\n",
    "ax[1].set_title('Level 1')\n",
    "fig.tight_layout()\n",
    "fig.subplots_adjust(top=1.2)\n",
    "plt.show()"
   ]
  },
  {
   "cell_type": "markdown",
   "id": "ab2df3d4",
   "metadata": {},
   "source": [
    "Looks like it did something!"
   ]
  },
  {
   "cell_type": "markdown",
   "id": "a96b6a33",
   "metadata": {},
   "source": [
    "### Part III\n",
    "\n",
    "As with all the other models in DataAssimBench, SQGTurb comes with sensible defaults. In most cases, you will probably just want to change the number of steps you run using .generate(n_steps=XX). \n",
    "\n",
    "But DataAssimBench is also built to be flexible. Maybe you want to change the model parameters to meet your specific needs. Let's learn how by modifying a few of the model parameters in data.SQGTurb. "
   ]
  },
  {
   "cell_type": "code",
   "execution_count": null,
   "id": "85964e6a",
   "metadata": {},
   "outputs": [],
   "source": [
    "# View parameters for sqgturb\n",
    "help(data.SQGTurb)"
   ]
  },
  {
   "cell_type": "code",
   "execution_count": null,
   "id": "2c75da9a",
   "metadata": {},
   "outputs": [],
   "source": [
    "# We can provide parameters as a dictionary:\n",
    "params_dict = {\n",
    "    'H': 20000.0, # Increase height of layers\n",
    "    'U': 50.0 # Increase basic state velocity\n",
    "}\n",
    "sqg_model_new = data.SQGTurb(**params_dict\n",
    ")"
   ]
  },
  {
   "cell_type": "code",
   "execution_count": null,
   "id": "6c5c0f07",
   "metadata": {},
   "outputs": [],
   "source": [
    "sqg_model_new.generate(n_steps=1000)"
   ]
  },
  {
   "cell_type": "code",
   "execution_count": null,
   "id": "e0ab7b37",
   "metadata": {},
   "outputs": [],
   "source": [
    "# Looks notably different than before\n",
    "fig, ax = plt.subplots(1, 2)\n",
    "fig.suptitle('SQG Model, New Final State')\n",
    "ax[0].imshow(sqg_model_new.values_gridded[-1, 0])\n",
    "ax[0].set_xlabel('x')\n",
    "ax[0].set_ylabel('y')\n",
    "ax[0].set_title('Level 0')\n",
    "ax[1].imshow(sqg_model_new.values_gridded[-1, 1])\n",
    "ax[1].set_xlabel('x')\n",
    "ax[1].set_ylabel('y')\n",
    "ax[1].set_title('Level 1')\n",
    "fig.tight_layout()\n",
    "fig.subplots_adjust(top=1.2)\n",
    "plt.show()"
   ]
  },
  {
   "cell_type": "markdown",
   "id": "db275d5b",
   "metadata": {},
   "source": [
    "You can try experimenting with all the other model parameters."
   ]
  }
 ],
 "metadata": {
  "kernelspec": {
   "display_name": "dab-installed",
   "language": "python",
   "name": "dab-installed"
  },
  "language_info": {
   "codemirror_mode": {
    "name": "ipython",
    "version": 3
   },
   "file_extension": ".py",
   "mimetype": "text/x-python",
   "name": "python",
   "nbconvert_exporter": "python",
   "pygments_lexer": "ipython3",
   "version": "3.8.13"
  }
 },
 "nbformat": 4,
 "nbformat_minor": 5
}
