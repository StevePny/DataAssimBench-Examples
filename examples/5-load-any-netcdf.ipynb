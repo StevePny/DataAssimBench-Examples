{
 "cells": [
  {
   "cell_type": "markdown",
   "id": "db81e356",
   "metadata": {},
   "source": [
    "# 5. Example: Reading and Writing Data in netCDF format\n",
    " \n",
    "Since you may want to download or generate data from another source, DataAssimBench offers the functionality to import data from netCDF."
   ]
  },
  {
   "cell_type": "markdown",
   "id": "49026171",
   "metadata": {},
   "source": [
    "### Part I: Download data\n",
    "\n",
    "First, let's download some example data from: https://www.unidata.ucar.edu/software/netcdf/examples/files.html"
   ]
  },
  {
   "cell_type": "code",
   "execution_count": null,
   "id": "d5814f71",
   "metadata": {},
   "outputs": [],
   "source": [
    "import urllib"
   ]
  },
  {
   "cell_type": "code",
   "execution_count": null,
   "id": "60325f5c",
   "metadata": {},
   "outputs": [],
   "source": [
    "urllib.request.urlretrieve(\"https://www.unidata.ucar.edu/software/netcdf/examples/tos_O1_2001-2002.nc\", \"./tos_01_2001-2002.nc\")"
   ]
  },
  {
   "cell_type": "markdown",
   "id": "ada265a7",
   "metadata": {},
   "source": [
    "### Part II: Load data\n",
    "\n",
    "When loading data from a netCDF, we use the dabench.data.Data class.\n",
    "\n",
    "Once we define our data object, it's as easy as using the .load_netcdf() method with a specific path.\n",
    "\n",
    "NOTE: This is a work in progress. Depending on the format of the NetCDF, loading may not work. If you run into issues, open a github issue and we can update the code so that the method loads your NetCDF: https://github.com/StevePny/DataAssimBench/issues"
   ]
  },
  {
   "cell_type": "code",
   "execution_count": null,
   "id": "0db98a7a",
   "metadata": {},
   "outputs": [],
   "source": [
    "import matplotlib.pyplot as plt\n",
    "from dabench import data"
   ]
  },
  {
   "cell_type": "code",
   "execution_count": null,
   "id": "fb528e91",
   "metadata": {},
   "outputs": [],
   "source": [
    "data_obj = data.Data()"
   ]
  },
  {
   "cell_type": "code",
   "execution_count": null,
   "id": "1fc2b56f",
   "metadata": {},
   "outputs": [],
   "source": [
    "data_obj.load_netcdf('./tos_01_2001-2002.nc')"
   ]
  },
  {
   "cell_type": "code",
   "execution_count": null,
   "id": "62e99d5c",
   "metadata": {},
   "outputs": [],
   "source": [
    "# In this case, we have 24 months of global sea surface temperature data\n",
    "# Each cell is 1 x 1 degree lat/lon\n",
    "print(data_obj.values.shape)\n",
    "print(data_obj.time_dim)\n",
    "print(data_obj.original_dim)"
   ]
  },
  {
   "cell_type": "code",
   "execution_count": null,
   "id": "01013747",
   "metadata": {},
   "outputs": [],
   "source": [
    "print(data_obj.values_gridded.shape)"
   ]
  },
  {
   "cell_type": "code",
   "execution_count": null,
   "id": "09e56957",
   "metadata": {},
   "outputs": [],
   "source": [
    "# Plot December 2001 vs September 2002\n",
    "fig, ax = plt.subplots(1, 2)\n",
    "ax[0].imshow(data_obj.values_gridded[11],  vmin=271, vmax=305)\n",
    "ax[0].set_title('Dec, 2001')\n",
    "ax[0].set_xlabel('x'); ax[0].set_ylabel('y')\n",
    "ax[1].imshow(data_obj.values_gridded[20],  vmin=271, vmax=305)\n",
    "ax[1].set_title('September, 2002')\n",
    "ax[1].set_xlabel('x'); ax[1].set_ylabel('y')\n",
    "fig.tight_layout()\n",
    "fig.subplots_adjust(top=1.2)\n",
    "plt.show()"
   ]
  },
  {
   "cell_type": "markdown",
   "id": "3b63f040",
   "metadata": {},
   "source": [
    "### Part III: Write Data\n",
    "\n",
    "We can also write data to netCDF. \n",
    "\n",
    "Let's generate some data using Lorenz63 and save to netCDF. See the first example notebook, 1-basics-lorenz63.ipynb, for more detailed discussion of how this data is being generated"
   ]
  },
  {
   "cell_type": "code",
   "execution_count": null,
   "id": "d4afac49",
   "metadata": {},
   "outputs": [],
   "source": [
    "l63_model = data.Lorenz63()\n",
    "l63_model.generate(n_steps=1000)\n",
    "print(l63_model.values)"
   ]
  },
  {
   "cell_type": "code",
   "execution_count": null,
   "id": "15485f5a",
   "metadata": {},
   "outputs": [],
   "source": [
    "l63_model.save_netcdf('./l63_data.nc')"
   ]
  },
  {
   "cell_type": "code",
   "execution_count": null,
   "id": "b9309f2d",
   "metadata": {},
   "outputs": [],
   "source": [
    "# Now let's reload that data we just wrote to file\n",
    "reload_l63 = data.Data()\n",
    "reload_l63.load_netcdf('./l63_data.nc')\n",
    "# And check to make sure that it's the same as the data we generated\n",
    "print(reload_l63.values)"
   ]
  },
  {
   "cell_type": "markdown",
   "id": "d2316204",
   "metadata": {},
   "source": [
    "Looks good!"
   ]
  }
 ],
 "metadata": {
  "kernelspec": {
   "display_name": "dab-installed",
   "language": "python",
   "name": "dab-installed"
  },
  "language_info": {
   "codemirror_mode": {
    "name": "ipython",
    "version": 3
   },
   "file_extension": ".py",
   "mimetype": "text/x-python",
   "name": "python",
   "nbconvert_exporter": "python",
   "pygments_lexer": "ipython3",
   "version": "3.8.13"
  }
 },
 "nbformat": 4,
 "nbformat_minor": 5
}
