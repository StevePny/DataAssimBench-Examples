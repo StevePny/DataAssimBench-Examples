{
 "cells": [
  {
   "cell_type": "markdown",
   "id": "d6e78334",
   "metadata": {},
   "source": [
    "# 4. Example: Download era5 from cloud provider\n",
    "\n",
    "DataAssimBench provides interfaces to ECWMF ERA5 data hosted on Google Cloud, Amazon Web Services, and Microsoft Azure.\n",
    "\n",
    "In this example, we'll walk through loading data from Amazon Web Services (AWS) into a dabench data object."
   ]
  },
  {
   "cell_type": "markdown",
   "id": "5d3b6dec",
   "metadata": {},
   "source": [
    "### Part I: Imports and Model Setup"
   ]
  },
  {
   "cell_type": "code",
   "execution_count": 1,
   "id": "9c9bbdaf",
   "metadata": {},
   "outputs": [
    {
     "name": "stderr",
     "output_type": "stream",
     "text": [
      "WARNING:absl:No GPU/TPU found, falling back to CPU. (Set TF_CPP_MIN_LOG_LEVEL=0 and rerun for more info.)\n"
     ]
    }
   ],
   "source": [
    "import matplotlib.pyplot as plt\n",
    "import numpy as np\n",
    "from dabench import data"
   ]
  },
  {
   "cell_type": "code",
   "execution_count": 2,
   "id": "e2c7a6ac",
   "metadata": {},
   "outputs": [
    {
     "name": "stdout",
     "output_type": "stream",
     "text": [
      "Help on class AWS in module dabench.data.aws:\n",
      "\n",
      "class AWS(dabench.data._data.Data)\n",
      " |  AWS(variables=['air_temperature_at_2_metres'], months=['01', '02', '03', '04', '05', '06', '07', '08', '09', '10', '11', '12'], years=[2020], min_lat=19.8554808619, max_lat=23.1886107447, min_lon=-84.9749110583, max_lon=-74.1780248685, system_dim=None, time_dim=None, store_as_jax=False, **kwargs)\n",
      " |  \n",
      " |  Class for loading ERA5 data from AWS Open Data\n",
      " |  \n",
      " |  Notes:\n",
      " |      Source: https://registry.opendata.aws/ecmwf-era5/\n",
      " |      Data is HRES sub-daily.\n",
      " |  \n",
      " |  Attributes:\n",
      " |      system_dim (int): System dimension\n",
      " |      time_dim (int): Total time steps\n",
      " |      variables (list of strings): Names of ERA5 variables to load.\n",
      " |          For list of variables, see:\n",
      " |          https://github.com/planet-os/notebooks/blob/master/aws/era5-pds.md\n",
      " |          NOTE: Do NOT include .nc extension in variable name.\n",
      " |          Default is ['air_temperature_at_2_metres']\n",
      " |      months (list of strings): List of months to include in '01', '02', etc.\n",
      " |          format.\n",
      " |      years (list of integers): List of years to include. Data is available\n",
      " |          from 1979 to present.\n",
      " |      min_lat (float): Minimum latitude for bounding box. If None, loads\n",
      " |          global data (which can be VERY large). Bounding box default covers\n",
      " |          Cuba.\n",
      " |      max_lat (float): Max latitude for bounding box (see min_lat for info).\n",
      " |      min_lon (float): Min latitude for bounding box (see min_lat for info).\n",
      " |      max_lon (float): Max latitude for bounding box (see min_lat for info).\n",
      " |      store_as_jax (bool): Store values as jax array instead of numpy array.\n",
      " |          Default is False (store as numpy).\n",
      " |  \n",
      " |  Method resolution order:\n",
      " |      AWS\n",
      " |      dabench.data._data.Data\n",
      " |      builtins.object\n",
      " |  \n",
      " |  Methods defined here:\n",
      " |  \n",
      " |  __init__(self, variables=['air_temperature_at_2_metres'], months=['01', '02', '03', '04', '05', '06', '07', '08', '09', '10', '11', '12'], years=[2020], min_lat=19.8554808619, max_lat=23.1886107447, min_lon=-84.9749110583, max_lon=-74.1780248685, system_dim=None, time_dim=None, store_as_jax=False, **kwargs)\n",
      " |      Initializes the base data object\n",
      " |  \n",
      " |  generate(self)\n",
      " |      Alias for _load_aws_era5\n",
      " |  \n",
      " |  load(self)\n",
      " |      Alias for _load_aws_era5\n",
      " |  \n",
      " |  ----------------------------------------------------------------------\n",
      " |  Methods inherited from dabench.data._data.Data:\n",
      " |  \n",
      " |  calc_lyapunov_exponents_final(self, total_time=None, rescale_time=1, convergence=0.05, x0=None)\n",
      " |      Computes the final Lyapunov Exponents\n",
      " |      \n",
      " |      Notes:\n",
      " |          See self.calc_lyapunov_exponents_series for full info\n",
      " |      \n",
      " |      Args:\n",
      " |          total_time (float) : Time to integrate over to compute LEs.\n",
      " |              Usually there's a tradeoff between accuracy and computation\n",
      " |              time (more total_time leads to higher accuracy but more\n",
      " |              computation time). Default depends on model type and are based\n",
      " |              roughly on how long it takes for satisfactory convergence:\n",
      " |              For Lorenz63: n_steps=15000 (total_time=150 for delta_t=0.01)\n",
      " |              For Lorenz96: n_steps=50000 (total_time=500 for delta_t=0.01)\n",
      " |          rescale_time (float) : Time for when the algorithm rescales the\n",
      " |              propagator to reduce the exponential growth in errors.\n",
      " |              Default is 1 (i.e. 100 timesteps when delta_t = 0.01).\n",
      " |          convergence (float) : Prints warning if LE convergence is below\n",
      " |              this number. Default is 0.01.\n",
      " |          x0 (array) : initial condition to start computing LE.  Needs\n",
      " |              to be on the attractor (i.e., remove transients). Default is\n",
      " |              None, which will fallback to use the x0 set during model object\n",
      " |              initialization.\n",
      " |      \n",
      " |      Returns:\n",
      " |          Lyapunov exponents array of size (system_dim)\n",
      " |  \n",
      " |  calc_lyapunov_exponents_series(self, total_time=None, rescale_time=1, convergence=0.01, x0=None)\n",
      " |      Computes the spectrum of Lyapunov Exponents.\n",
      " |      \n",
      " |      Notes:\n",
      " |          Lyapunov exponents help describe the degree of \"chaos\" in the\n",
      " |          model. Make sure to plot the output to check that the algorithm\n",
      " |          converges. There are three ways to make the estimate more accurate:\n",
      " |              1. Decrease the delta_t of the model\n",
      " |              2. Increase total_time\n",
      " |              3. Decrease rescale time (try increasing total_time first)\n",
      " |          Algorithm: Eckmann 85,\n",
      " |          https://www.ihes.fr/~ruelle/PUBLICATIONS/%5B81%5D.pdf pg 651\n",
      " |          This method computes the full time series of Lyapunov Exponents,\n",
      " |          which is useful for plotting for debugging. To get only the final\n",
      " |          Lyapunov Exponent, use self.calc_lyapunov_exponents.\n",
      " |      \n",
      " |      Args:\n",
      " |          total_time (float) : Time to integrate over to compute LEs.\n",
      " |              Usually there's a tradeoff between accuracy and computation\n",
      " |              time (more total_time leads to higher accuracy but more\n",
      " |              computation time). Default depends on model type and are based\n",
      " |              roughly on how long it takes for satisfactory convergence:\n",
      " |              For Lorenz63: n_steps=15000 (total_time=150 for delta_t=0.01)\n",
      " |              For Lorenz96: n_steps=50000 (total_time=500 for delta_t=0.01)\n",
      " |          rescale_time (float) : Time for when the algorithm rescales the\n",
      " |              propagator to reduce the exponential growth in errors.\n",
      " |              Default is 1 (i.e. 100 timesteps when delta_t = 0.01).\n",
      " |          convergence (float) : Prints warning if LE convergence is below\n",
      " |              this number. Default is 0.01.\n",
      " |          x0 (array) : initial condition to start computing LE.  Needs\n",
      " |              to be on the attractor (i.e., remove transients). Default is\n",
      " |              None, which will fallback to use the x0 set during model object\n",
      " |              initialization.\n",
      " |      \n",
      " |      Returns:\n",
      " |          Lyapunov exponents for all timesteps, array of size\n",
      " |              (total_time/rescale_time - 1, system_dim)\n",
      " |  \n",
      " |  load_netcdf(self, filepath=None, include_vars=None, exclude_vars=None, years_select=None, dates_select=None, lat_sorting='descending')\n",
      " |      Loads values from netCDF file, saves them in values attribute\n",
      " |      \n",
      " |      Args:\n",
      " |          filepath (str): Path to netCDF file to load. If not given,\n",
      " |              defaults to loading ERA5 ECMWF SLP data over Japan\n",
      " |              from 2018 to 2021.\n",
      " |          include_vars (list-like): Data variables to load from NetCDF. If\n",
      " |              None (default), loads all variables. Can be used to exclude bad\n",
      " |              variables.\n",
      " |          exclude_vars (list-like): Data variabes to exclude from NetCDF\n",
      " |              loading. If None (default), loads all vars (or only those\n",
      " |              specified in include_vars). It's recommended to only specify\n",
      " |              include_vars OR exclude_vars (unless you want to do extra\n",
      " |              typing).\n",
      " |          years_select (list-like): Years to load (ints). If None, loads all\n",
      " |              timesteps.\n",
      " |          dates_select (list-like): Dates to load. Elements must be\n",
      " |              datetime date or datetime objects, depending on type of time\n",
      " |              indices in NetCDF. If both years_select and dates_select\n",
      " |              are specified, time_stamps overwrites \"years\" argument. If\n",
      " |              None, loads all timesteps.\n",
      " |          lat_sorting (str): Orient data by latitude:\n",
      " |              descending (default), ascending, or None (uses orientation\n",
      " |              from data file).\n",
      " |  \n",
      " |  rhs_aux(self, x, t)\n",
      " |      The auxiliary model used to compute the TLM.\n",
      " |      \n",
      " |      Args:\n",
      " |        x (ndarray): State vector with size (system_dim)\n",
      " |        t (ndarray): Array of times with size (time_dim)\n",
      " |      \n",
      " |      Returns:\n",
      " |        dxaux (ndarray): State vector [size: (system_dim,)]\n",
      " |  \n",
      " |  sample_cells(self, targets)\n",
      " |      Samples values at a list of multidimensional array indices.\n",
      " |      \n",
      " |      Args:\n",
      " |          targets (ndarray): Array of target indices in shape:\n",
      " |              (num_of_target_indices, time_dim + original_dim). E.g.\n",
      " |              [[0,0], [0,1]] samples the first and second cell values in the\n",
      " |              first timestep (in this case original_dim = 1).\n",
      " |  \n",
      " |  save_netcdf(self, filename)\n",
      " |      Saves values in values attribute to netCDF file\n",
      " |      \n",
      " |      Args:\n",
      " |          filepath (str): Path to netCDF file to save\n",
      " |  \n",
      " |  ----------------------------------------------------------------------\n",
      " |  Readonly properties inherited from dabench.data._data.Data:\n",
      " |  \n",
      " |  values_gridded\n",
      " |  \n",
      " |  x0_gridded\n",
      " |  \n",
      " |  ----------------------------------------------------------------------\n",
      " |  Data descriptors inherited from dabench.data._data.Data:\n",
      " |  \n",
      " |  __dict__\n",
      " |      dictionary for instance variables (if defined)\n",
      " |  \n",
      " |  __weakref__\n",
      " |      list of weak references to the object (if defined)\n",
      " |  \n",
      " |  values\n",
      " |  \n",
      " |  x0\n",
      "\n"
     ]
    }
   ],
   "source": [
    "# We can find info the options for the AWS data loader by running help()\n",
    "help(data.AWS)"
   ]
  },
  {
   "cell_type": "markdown",
   "id": "6e6ad479",
   "metadata": {},
   "source": [
    "To start, let's download air temp data over the state of Colorado for 2020 and 2021.\n",
    "\n",
    "Note: If you don't specify any of these options, the model object will use defaults, which are air temp at 2 metres for 2020 over Cuba. While you can download global data via this interface, it is not recommended (except for over very short time periods) due to the data volume."
   ]
  },
  {
   "cell_type": "code",
   "execution_count": 3,
   "id": "a401e5d4",
   "metadata": {},
   "outputs": [],
   "source": [
    "# The model object is defined in the same way as the model data generators (e.g. Lorenz63).\n",
    "# But the options vary a bit. In this case we can specify which variables and years to load\n",
    "# and set a bounding box\n",
    "aws_loader = data.AWS(variables = ['air_temperature_at_2_metres'], \n",
    "                       years = [2020, 2021],\n",
    "                       min_lat = 36.992426, max_lat = 41.003444, \n",
    "                       min_lon = -109.060253, max_lon = -102.041524\n",
    "                      )"
   ]
  },
  {
   "cell_type": "code",
   "execution_count": 4,
   "id": "f607cb3e",
   "metadata": {},
   "outputs": [],
   "source": [
    "# To download the data, we can use aws_loader.generate() \n",
    "# OR aws_loader.load()\n",
    "aws_loader.load()\n",
    "# Also works, but .generate() shows a warning because it \n",
    "# is a simple alias for .load()\n",
    "# aws_loader.generate()"
   ]
  },
  {
   "cell_type": "markdown",
   "id": "15eb05d3",
   "metadata": {},
   "source": [
    "### Part II: Examining and Visualizing Data\n",
    "\n",
    "The process for accessing and visualizing the data is much the same as it is for the other data objects (e.g. models)"
   ]
  },
  {
   "cell_type": "code",
   "execution_count": 5,
   "id": "4f02f4f8",
   "metadata": {},
   "outputs": [
    {
     "name": "stdout",
     "output_type": "stream",
     "text": [
      "(17544, 476)\n",
      "[[260.75   258.5625 258.125  ... 275.6875 275.9375 276.0625]\n",
      " [260.5    258.5    258.0625 ... 274.375  274.8125 275.25  ]\n",
      " [260.875  259.75   259.3125 ... 273.0625 273.4375 273.8125]\n",
      " ...\n",
      " [266.     266.     266.5625 ... 286.     286.375  286.8125]\n",
      " [264.375  264.4375 265.0625 ... 284.0625 284.6875 285.25  ]\n",
      " [264.25   264.4375 264.625  ... 282.625  283.     283.4375]]\n"
     ]
    }
   ],
   "source": [
    "# In this case, we have 17544 timesteps (24 hours for 731 days, 2020 was a leap year)\n",
    "print(aws_loader.values.shape)\n",
    "print(aws_loader.values)"
   ]
  },
  {
   "cell_type": "code",
   "execution_count": 6,
   "id": "24f9868c",
   "metadata": {},
   "outputs": [
    {
     "name": "stdout",
     "output_type": "stream",
     "text": [
      "['2020-01-01T00:00:00.000000000' '2020-01-01T01:00:00.000000000'\n",
      " '2020-01-01T02:00:00.000000000' ... '2021-12-31T21:00:00.000000000'\n",
      " '2021-12-31T22:00:00.000000000' '2021-12-31T23:00:00.000000000']\n"
     ]
    }
   ],
   "source": [
    "# We can access those timesteps directly:\n",
    "print(aws_loader.times)"
   ]
  },
  {
   "cell_type": "code",
   "execution_count": 7,
   "id": "8dae1030",
   "metadata": {},
   "outputs": [
    {
     "name": "stdout",
     "output_type": "stream",
     "text": [
      "(17544, 17, 28)\n"
     ]
    }
   ],
   "source": [
    "# Convert each timestep back to 2D\n",
    "print(aws_loader.values_gridded.shape)"
   ]
  },
  {
   "cell_type": "code",
   "execution_count": 8,
   "id": "01764c83",
   "metadata": {},
   "outputs": [
    {
     "data": {
      "image/png": "[encoded data removed]",
      "text/plain": [
       "<Figure size 640x480 with 2 Axes>"
      ]
     },
     "metadata": {},
     "output_type": "display_data"
    }
   ],
   "source": [
    "# Now let's compare air temp in January vs June over Colorado\n",
    "fig, ax = plt.subplots(1, 2)\n",
    "fig.suptitle('Air Temp at 2 Metres (K), Colorado')\n",
    "ax[0].imshow(aws_loader.values_gridded[12], vmin=250, vmax=300)\n",
    "ax[0].set_title(np.datetime_as_string(aws_loader.times[12], unit='h')); ax[0].set_xlabel('Longitude'); ax[0].set_ylabel('Latitude')\n",
    "ax[0].set_yticks(ticks=[0, 5, 10, 15], labels=[40.75, 39.5, 38.25, 37]); ax[0].set_xticks(ticks=[0, 10, 20], labels=[-109, -106.5, -104])\n",
    "ax[1].imshow(aws_loader.values_gridded[3660], vmin=250, vmax=300)\n",
    "ax[1].set_title(np.datetime_as_string(aws_loader.times[3660], unit='h')); ax[1].set_xlabel('Longitude'); ax[1].set_ylabel('Latitude')\n",
    "ax[1].set_yticks(ticks=[0, 5, 10, 15], labels=[40.75, 39.5, 38.25, 37]); ax[1].set_xticks(ticks=[0, 10, 20], labels=[-109, -106.5, -104])\n",
    "fig.tight_layout()\n",
    "fig.subplots_adjust(top=1.4)\n",
    "plt.show()"
   ]
  },
  {
   "cell_type": "markdown",
   "id": "5631d5e9",
   "metadata": {},
   "source": [
    "### Part III: Customizing data download options\n",
    "\n",
    "This interface is highly flexible. ERA5 offers many different variables that can be used. Multiple variables can be loaded at the same time.\n",
    "\n",
    "You can find the full list of variables here: https://github.com/planet-os/notebooks/blob/master/aws/era5-pds.md#variables\n",
    "\n",
    "Note that you cannot load forecast variables (denoted by \"fc\" in the table) and analysis variables (\"an\") into the same data object. You can load one or more forecast variables OR one or more analysis variables, but not both.\n",
    "\n",
    "Let's load air pressure and sea surface temperature data over Cuba (the default bounding box) for 1983. Note that you should not included the \".nc\" extension in your variable list."
   ]
  },
  {
   "cell_type": "code",
   "execution_count": 9,
   "id": "1bb3b428",
   "metadata": {},
   "outputs": [],
   "source": [
    "# Cuba is the default bounding box so we don't need to specify that\n",
    "cuba_loader = data.AWS(variables = ['air_pressure_at_mean_sea_level', 'sea_surface_temperature'], \n",
    "                       years = [1979]\n",
    "                      )\n",
    "cuba_loader.load()"
   ]
  },
  {
   "cell_type": "markdown",
   "id": "b726ab2f",
   "metadata": {},
   "source": [
    "Let's look at the shape of our data\n",
    "\n",
    "In this case, we have:\n",
    "- timesteps = 8760 (24 hrs x 365 days)\n",
    "- x dim = 13\n",
    "- y dim = 43\n",
    "- variables = 2"
   ]
  },
  {
   "cell_type": "code",
   "execution_count": 10,
   "id": "82041f5d",
   "metadata": {},
   "outputs": [
    {
     "data": {
      "image/png": "[encoded data removed]",
      "text/plain": [
       "<Figure size 640x480 with 2 Axes>"
      ]
     },
     "metadata": {},
     "output_type": "display_data"
    }
   ],
   "source": [
    "# Now let's plot sea surface temp and pressure next to each other in July\n",
    "fig, ax = plt.subplots(1, 2)\n",
    "fig.suptitle('Sea Surface Pressure and Temp, Cuba in June 1979')\n",
    "ax[0].imshow(cuba_loader.values_gridded[4404, :, :, 0])\n",
    "ax[0].set_title('Pressure, ' + np.datetime_as_string(cuba_loader.times[4404], unit='h')); ax[0].set_xlabel('x'); ax[0].set_ylabel('y')\n",
    "ax[1].imshow(cuba_loader.values_gridded[4404, :, :, 1])\n",
    "ax[1].set_title('Temperature, ' + np.datetime_as_string(cuba_loader.times[4404], unit='h')); ax[1].set_xlabel('x'); ax[1].set_ylabel('y')\n",
    "fig.tight_layout()\n",
    "fig.subplots_adjust(top=1.4)\n",
    "plt.show()"
   ]
  },
  {
   "cell_type": "markdown",
   "id": "a23b7565",
   "metadata": {},
   "source": [
    "A couple things to note:\n",
    "1. Notice that pressures are lower and temps are higher to the Southwest vs. the Northeast\n",
    "2. Sea surface tempearture is not defined over land"
   ]
  }
 ],
 "metadata": {
  "kernelspec": {
   "display_name": "dab-installed",
   "language": "python",
   "name": "dab-installed"
  },
  "language_info": {
   "codemirror_mode": {
    "name": "ipython",
    "version": 3
   },
   "file_extension": ".py",
   "mimetype": "text/x-python",
   "name": "python",
   "nbconvert_exporter": "python",
   "pygments_lexer": "ipython3",
   "version": "3.8.13"
  }
 },
 "nbformat": 4,
 "nbformat_minor": 5
}
