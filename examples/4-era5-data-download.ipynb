{
 "cells": [
  {
   "cell_type": "markdown",
   "id": "d6e78334",
   "metadata": {},
   "source": [
    "# 4. Example: Download era5 from cloud provider\n",
    "\n",
    "DataAssimBench provides interfaces to ECWMF ERA5 data hosted on Google Cloud, Amazon Web Services, and Microsoft Azure.\n",
    "\n",
    "In this example, we'll walk through loading data from Amazon Web Services (AWS) into a dabench data object."
   ]
  },
  {
   "cell_type": "markdown",
   "id": "5d3b6dec",
   "metadata": {},
   "source": [
    "### Part I: Imports and Model Setup"
   ]
  },
  {
   "cell_type": "code",
   "execution_count": null,
   "id": "9c9bbdaf",
   "metadata": {},
   "outputs": [],
   "source": [
    "import matplotlib.pyplot as plt\n",
    "import numpy as np\n",
    "from dabench import data"
   ]
  },
  {
   "cell_type": "code",
   "execution_count": null,
   "id": "e2c7a6ac",
   "metadata": {},
   "outputs": [],
   "source": [
    "# We can find info the options for the AWS data loader by running help()\n",
    "help(data.AWS)"
   ]
  },
  {
   "cell_type": "markdown",
   "id": "6e6ad479",
   "metadata": {},
   "source": [
    "To start, let's download air temp data over the state of Colorado for 2020 and 2021.\n",
    "\n",
    "Note: If you don't specify any of these options, the model object will use defaults, which are air temp at 2 metres for 2020 over Cuba. While you can download global data via this interface, it is not recommended (except for over very short time periods) due to the data volume."
   ]
  },
  {
   "cell_type": "code",
   "execution_count": null,
   "id": "a401e5d4",
   "metadata": {},
   "outputs": [],
   "source": [
    "# The model object is defined in the same way as the model data generators (e.g. Lorenz63).\n",
    "# But the options vary a bit. In this case we can specify which variables and years to load\n",
    "# and set a bounding box\n",
    "aws_loader = data.AWS(variables = ['air_temperature_at_2_metres'], \n",
    "                       years = [2020, 2021],\n",
    "                       min_lat = 36.992426, max_lat = 41.003444, \n",
    "                       min_lon = -109.060253, max_lon = -102.041524\n",
    "                      )"
   ]
  },
  {
   "cell_type": "code",
   "execution_count": null,
   "id": "f607cb3e",
   "metadata": {},
   "outputs": [],
   "source": [
    "# To download the data, we can use aws_loader.generate() \n",
    "# OR aws_loader.load()\n",
    "aws_loader.load()\n",
    "# Also works, but .generate() shows a warning because it \n",
    "# is a simple alias for .load()\n",
    "# aws_loader.generate()"
   ]
  },
  {
   "cell_type": "markdown",
   "id": "15eb05d3",
   "metadata": {},
   "source": [
    "### Part II: Examining and Visualizing Data\n",
    "\n",
    "The process for accessing and visualizing the data is much the same as it is for the other data objects (e.g. models)"
   ]
  },
  {
   "cell_type": "code",
   "execution_count": null,
   "id": "4f02f4f8",
   "metadata": {},
   "outputs": [],
   "source": [
    "# In this case, we have 17544 timesteps (24 hours for 731 days, 2020 was a leap year)\n",
    "print(aws_loader.values.shape)\n",
    "print(aws_loader.values)"
   ]
  },
  {
   "cell_type": "code",
   "execution_count": null,
   "id": "24f9868c",
   "metadata": {},
   "outputs": [],
   "source": [
    "# We can access those timesteps directly:\n",
    "print(aws_loader.times)"
   ]
  },
  {
   "cell_type": "code",
   "execution_count": null,
   "id": "8dae1030",
   "metadata": {},
   "outputs": [],
   "source": [
    "# Convert each timestep back to 2D\n",
    "gridded_values = aws_loader.to_original_dim()\n",
    "print(gridded_values.shape)"
   ]
  },
  {
   "cell_type": "code",
   "execution_count": null,
   "id": "01764c83",
   "metadata": {},
   "outputs": [],
   "source": [
    "# Now let's compare air temp in January vs June over Colorado\n",
    "fig, ax = plt.subplots(1, 2)\n",
    "fig.suptitle('Air Temp at 2 Metres (K), Colorado')\n",
    "ax[0].imshow(gridded_values[12], vmin=250, vmax=300)\n",
    "ax[0].set_title(np.datetime_as_string(aws_loader.times[12], unit='h')); ax[0].set_xlabel('Longitude'); ax[0].set_ylabel('Latitude')\n",
    "ax[0].set_yticks(ticks=[0, 5, 10, 15], labels=[37, 38.25, 39.5, 40.75]); ax[0].set_xticks(ticks=[0, 10, 20], labels=[-109, -106.5, -104])\n",
    "ax[1].imshow(gridded_values[3660], vmin=250, vmax=300)\n",
    "ax[1].set_title(np.datetime_as_string(aws_loader.times[3660], unit='h')); ax[1].set_xlabel('Longitude'); ax[1].set_ylabel('Latitude')\n",
    "ax[1].set_yticks(ticks=[0, 5, 10, 15], labels=[37, 38.25, 39.5, 40.75]); ax[1].set_xticks(ticks=[0, 10, 20], labels=[-109, -106.5, -104])\n",
    "fig.tight_layout()\n",
    "fig.subplots_adjust(top=1.4)\n",
    "plt.show()"
   ]
  },
  {
   "cell_type": "markdown",
   "id": "5631d5e9",
   "metadata": {},
   "source": [
    "### Part III: Customizing data download options\n",
    "\n",
    "This interface is highly flexible. ERA5 offers many different variables that can be used. Multiple variables can be loaded at the same time.\n",
    "\n",
    "You can find the full list of variables here: https://github.com/planet-os/notebooks/blob/master/aws/era5-pds.md#variables\n",
    "\n",
    "Note that you cannot load forecast variables (denoted by \"fc\" in the table) and analysis variables (\"an\") into the same data object. You can load one or more forecast variables OR one or more analysis variables, but not both.\n",
    "\n",
    "Let's load air pressure and sea surface temperature data over Cuba (the default bounding box) for 1983. Note that you should not included the \".nc\" extension in your variable list."
   ]
  },
  {
   "cell_type": "code",
   "execution_count": null,
   "id": "1bb3b428",
   "metadata": {},
   "outputs": [],
   "source": [
    "# Cuba is the default bounding box so we don't need to specify that|\n",
    "cuba_loader = data.AWS(variables = ['air_pressure_at_mean_sea_level', 'sea_surface_temperature'], \n",
    "                       years = [1979]\n",
    "                      )\n",
    "cuba_loader.load()"
   ]
  },
  {
   "cell_type": "markdown",
   "id": "b726ab2f",
   "metadata": {},
   "source": [
    "Let's look at the shape of our data\n",
    "\n",
    "In this case, we have:\n",
    "- timesteps = 8760 (24 hrs x 365 days)\n",
    "- x dim = 13\n",
    "- y dim = 43\n",
    "- variables = 2"
   ]
  },
  {
   "cell_type": "code",
   "execution_count": null,
   "id": "ef112e19",
   "metadata": {},
   "outputs": [],
   "source": [
    "cuba_grid_vals = cuba_loader.to_original_dim()\n",
    "print(cuba_grid_vals.shape) "
   ]
  },
  {
   "cell_type": "code",
   "execution_count": null,
   "id": "82041f5d",
   "metadata": {},
   "outputs": [],
   "source": [
    "# Now let's plot sea surface temp and pressure next to each other in July\n",
    "fig, ax = plt.subplots(1, 2)\n",
    "fig.suptitle('Sea Surface Pressure and Temp, Cuba in June 1979')\n",
    "ax[0].imshow(cuba_grid_vals[4404, :, :, 0])\n",
    "ax[0].set_title('Pressure, ' + np.datetime_as_string(cuba_loader.times[4404], unit='h')); ax[0].set_xlabel('x'); ax[0].set_ylabel('y')\n",
    "ax[1].imshow(cuba_grid_vals[4404, :, :, 1])\n",
    "ax[1].set_title('Temperature, ' + np.datetime_as_string(cuba_loader.times[4404], unit='h')); ax[1].set_xlabel('x'); ax[1].set_ylabel('y')\n",
    "fig.tight_layout()\n",
    "fig.subplots_adjust(top=1.4)\n",
    "plt.show()"
   ]
  },
  {
   "cell_type": "markdown",
   "id": "a23b7565",
   "metadata": {},
   "source": [
    "A couple things to note:\n",
    "1. Notice that pressures are lower and temps are higher to the Southwest vs. the Northeast\n",
    "2. Sea surface tempearture is not defined over land"
   ]
  }
 ],
 "metadata": {
  "kernelspec": {
   "display_name": "dab-installed",
   "language": "python",
   "name": "dab-installed"
  },
  "language_info": {
   "codemirror_mode": {
    "name": "ipython",
    "version": 3
   },
   "file_extension": ".py",
   "mimetype": "text/x-python",
   "name": "python",
   "nbconvert_exporter": "python",
   "pygments_lexer": "ipython3",
   "version": "3.8.13"
  }
 },
 "nbformat": 4,
 "nbformat_minor": 5
}
