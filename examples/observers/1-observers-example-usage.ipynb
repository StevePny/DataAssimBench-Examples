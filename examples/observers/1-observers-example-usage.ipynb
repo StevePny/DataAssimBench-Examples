{
 "cells": [
  {
   "cell_type": "code",
   "execution_count": null,
   "id": "5ffe3f58",
   "metadata": {},
   "outputs": [],
   "source": [
    "import dabench as dab\n",
    "import matplotlib.pyplot as plt\n",
    "import numpy as np"
   ]
  },
  {
   "cell_type": "markdown",
   "id": "08132851",
   "metadata": {},
   "source": [
    "# 1. Basic stationary observer with random sampling by *count*"
   ]
  },
  {
   "cell_type": "markdown",
   "id": "36d23c66",
   "metadata": {},
   "source": [
    "The first step is to define a data generator and generate/load data for the observer. Let's use a Lorenz63 generator as a basic starting point."
   ]
  },
  {
   "cell_type": "code",
   "execution_count": null,
   "id": "9a10e502",
   "metadata": {},
   "outputs": [],
   "source": [
    "l63 = dab.data.Lorenz63()\n",
    "l63.generate(n_steps=50)"
   ]
  },
  {
   "cell_type": "code",
   "execution_count": null,
   "id": "9e3e807e",
   "metadata": {},
   "outputs": [],
   "source": [
    "# Now we can define the observer:\n",
    "obs_l63 = dab.observer.Observer(\n",
    "    l63, # Data generator object\n",
    "    random_time_count = 20, # Pick 20 timesteps for sampling\n",
    "    random_location_count = 1, # Pick one location in the system for sampling\n",
    "    error_bias = 0.0, # Mean for observation error, Gaussian/Normal distribution\n",
    "    error_sd = 0.7, # Standard deviation for observation error, Gaussian/Normal distribution\n",
    "    random_seed=99 # We can specify a random seed. Default is 99\n",
    ")\n",
    "\n",
    "# Making observations\n",
    "obs_vec_l63 = obs_l63.observe()"
   ]
  },
  {
   "cell_type": "code",
   "execution_count": null,
   "id": "08b77969",
   "metadata": {},
   "outputs": [],
   "source": [
    "# Let's examine that object\n",
    "print('Sampling times: ', obs_vec_l63.times)\n",
    "print('Number of observations: ', obs_vec_l63.num_obs)\n",
    "print('Number of locations at each timestep: ', obs_vec_l63.obs_dims[0])\n",
    "print('Sampling location indices: ', obs_vec_l63.location_indices[0])\n",
    "print('Observation values: ', obs_vec_l63.values)"
   ]
  },
  {
   "cell_type": "code",
   "execution_count": null,
   "id": "8bdd27b1",
   "metadata": {},
   "outputs": [],
   "source": [
    "# Let's examine how error is added to observations\n",
    "fig, ax = plt.subplots()\n",
    "ax.plot(l63.times, l63.values[:, 1], alpha=0.9)\n",
    "ax.plot(obs_vec_l63.times, obs_vec_l63.values[:, 0], '--', alpha=0.9)\n",
    "obs_values_minus_error = obs_vec_l63.values - obs_vec_l63.errors\n",
    "ax.plot(obs_vec_l63.times, obs_values_minus_error[:, 0], ':', alpha=0.9)\n",
    "ax.legend(labels=['Original System', 'Observations with Error', 'Obs Without Error'])\n",
    "plt.show()"
   ]
  },
  {
   "cell_type": "markdown",
   "id": "3124940f",
   "metadata": {},
   "source": [
    "# 2. Stationary observer with user-specified sampling times and locations"
   ]
  },
  {
   "cell_type": "markdown",
   "id": "b98fc359",
   "metadata": {},
   "source": [
    "Last time, we let the observer randomly select locations and times to sample. But the observer also allows us to specify the location and time indices we want to observe. You can use this to, for example, sample every other time step or every 5th element in the state vector. It allows for complete customization. Let's explore that using a Lorenz96 generator."
   ]
  },
  {
   "cell_type": "code",
   "execution_count": null,
   "id": "af33c8d7",
   "metadata": {},
   "outputs": [],
   "source": [
    "l96 = dab.data.Lorenz96()\n",
    "l96.generate(n_steps=100)\n",
    "print('Time dim: ', l96.time_dim)\n",
    "print('System dim: ', l96.system_dim)"
   ]
  },
  {
   "cell_type": "code",
   "execution_count": null,
   "id": "cf117b6b",
   "metadata": {},
   "outputs": [],
   "source": [
    "# Let's sample 5 different locations in the system every 5th timestep\n",
    "time_inds_l96 = np.arange(0, 100, 5)\n",
    "print(time_inds_l96)\n",
    "sys_inds_l96 = [5, 10, 20, 25, 35]"
   ]
  },
  {
   "cell_type": "code",
   "execution_count": null,
   "id": "abfd11ea",
   "metadata": {},
   "outputs": [],
   "source": [
    "# Set up observer using our specified sampling times/locations\n",
    "obs_l96 = dab.observer.Observer(\n",
    "    l96, \n",
    "    time_indices = time_inds_l96, # Time indices to sample\n",
    "    location_indices = sys_inds_l96, # Location indices to sample\n",
    "    error_bias = 0.2,\n",
    "    error_sd = 0.5 \n",
    ")\n",
    "\n",
    "# Making observations\n",
    "obs_vec_l96 = obs_l96.observe()"
   ]
  },
  {
   "cell_type": "code",
   "execution_count": null,
   "id": "8ad3f0d7",
   "metadata": {},
   "outputs": [],
   "source": [
    "# Let's examine that object\n",
    "print('Sampling times: ', obs_vec_l96.times)\n",
    "print('Number of observations: ', obs_vec_l96.num_obs)\n",
    "print('Number of locations at each timestep: ', obs_vec_l96.obs_dims[0])\n",
    "print('Sampling location indices: ', obs_vec_l96.location_indices[0])\n",
    "print('Observation values: ', obs_vec_l96.values)\n",
    "print('Mean Error: ', obs_vec_l96.errors.mean()) # Pretty close to the 0.2 we specified"
   ]
  },
  {
   "cell_type": "code",
   "execution_count": null,
   "id": "c3f99be4",
   "metadata": {},
   "outputs": [],
   "source": [
    "# Plot observations against the original values\n",
    "fig, ax = plt.subplots()\n",
    "ax.plot(l96.times, l96.values[:, obs_vec_l96.location_indices[0, 0]], alpha=0.9)\n",
    "ax.plot(obs_vec_l96.times, obs_vec_l96.values[:, 0], '--', alpha=0.9)\n",
    "ax.legend(labels=['Original System', 'Observations with Error'])\n",
    "plt.show()"
   ]
  },
  {
   "cell_type": "markdown",
   "id": "2458b399",
   "metadata": {},
   "source": [
    "# 3. Filtering observations by time"
   ]
  },
  {
   "cell_type": "markdown",
   "id": "f8dd8953",
   "metadata": {},
   "source": [
    "In some cases, once we've generated observations we might want to select all observations within a certiain time interval. Let's use the Lorenz96 observations we generated to show an example of this."
   ]
  },
  {
   "cell_type": "code",
   "execution_count": null,
   "id": "800c40df",
   "metadata": {},
   "outputs": [],
   "source": [
    "# Specify time interval, centered at 2 +/- 0.75\n",
    "time_start = 2 - 0.75\n",
    "time_end = 2 + 0.75\n",
    "# Run filter and save as new obs vec\n",
    "obs_vec_l96_filt = obs_vec_l96.filter_times(start=time_start, end=time_end, inclusive=True)\n",
    "print('Observation times: ', obs_vec_l96_filt.times)\n",
    "print('New number of obs: ', obs_vec_l96_filt.num_obs)"
   ]
  },
  {
   "cell_type": "code",
   "execution_count": null,
   "id": "a039a2cd",
   "metadata": {},
   "outputs": [],
   "source": [
    "# Visualize\n",
    "# Plot it against the original values\n",
    "fig, ax = plt.subplots()\n",
    "ax.plot(l96.times, l96.values[:, obs_vec_l96.location_indices[0, 0]], alpha=0.9)\n",
    "ax.plot(obs_vec_l96.times, obs_vec_l96.values[:, 0], '--', alpha=0.9)\n",
    "ax.plot(obs_vec_l96_filt.times, obs_vec_l96_filt.values[:, 0], '-.', alpha=1.0)\n",
    "ax.legend(labels=['Original System', 'All Obs', 'Time-range Filtered Obs'])\n",
    "plt.show()"
   ]
  },
  {
   "cell_type": "markdown",
   "id": "82cebb34",
   "metadata": {},
   "source": [
    "# 4. Observer with locations in original coordinate dimensions"
   ]
  },
  {
   "cell_type": "markdown",
   "id": "0a574b53-685a-4fa7-abb9-4f5fa29e1d39",
   "metadata": {},
   "source": [
    "NOTE: These are currently not working"
   ]
  },
  {
   "cell_type": "markdown",
   "id": "76a5d514",
   "metadata": {},
   "source": [
    "In the previous example, we specified locations to sample in the flattened, 1D space of the system's state vector. But for many data generators/loaders, the values originally exist in multi-dimensional space (e.g. latitudue, longitude, vertical level) before being flattened into a state vector. DataAssimBench's Observer class can take location indices in this original_dim instead. Let's create observations from some ERA5 data downloaded from Amazon Web Services. "
   ]
  },
  {
   "cell_type": "code",
   "execution_count": null,
   "id": "5ffda9a2",
   "metadata": {},
   "outputs": [],
   "source": [
    "aws = dab.data.AWS()\n",
    "aws.load()\n",
    "print('Time dim: ', aws.time_dim)\n",
    "print('System dim: ',aws.system_dim)\n",
    "print('Original dim: ', aws.original_dim)"
   ]
  },
  {
   "cell_type": "code",
   "execution_count": null,
   "id": "40dba65d",
   "metadata": {},
   "outputs": [],
   "source": [
    "# Let's sample every 500 timesteps\n",
    "time_inds_aws = np.arange(0, aws.time_dim, 500)\n",
    "# Let's pick indices at the corners and roughly center of the system\n",
    "loc_inds_aws= np.array([[0, 0], [12, 0], [12, 42], [0, 42], [6, 21]])"
   ]
  },
  {
   "cell_type": "code",
   "execution_count": null,
   "id": "fe830407",
   "metadata": {},
   "outputs": [],
   "source": [
    "# Set up observer using our specified sampling times/locations\n",
    "obs_aws = dab.observer.Observer(\n",
    "    aws, \n",
    "    time_indices = time_inds_aws, # Time indices to sample\n",
    "    location_indices = loc_inds_aws, # Location indices to sample\n",
    "    error_bias = 0.0, # No error this time\n",
    "    error_sd = 0.0\n",
    ")\n",
    "\n",
    "# Making observations\n",
    "obs_vec_aws = obs_aws.observe()"
   ]
  },
  {
   "cell_type": "code",
   "execution_count": null,
   "id": "48ec47a8",
   "metadata": {},
   "outputs": [],
   "source": [
    "# Let's examine that object\n",
    "print('Sampling times: ', obs_vec_aws.times)\n",
    "print('Number of observations: ', obs_vec_aws.num_obs)\n",
    "print('Number of locations at each timestep: ', obs_vec_aws.obs_dims[0])\n",
    "print('Sampling location indices: ', obs_vec_aws.location_indices[0])\n",
    "print('Observation values: ', obs_vec_aws.values)\n",
    "print('Errors: ', obs_vec_aws.errors)"
   ]
  },
  {
   "cell_type": "code",
   "execution_count": null,
   "id": "7110130f",
   "metadata": {},
   "outputs": [],
   "source": [
    "# Visualize\n",
    "# Recall that there is no error, but our sampling is pretty infrequent compared to the actual system\n",
    "# Plot it against the original values\n",
    "fig, ax = plt.subplots()\n",
    "ax.plot(aws.times, aws.values_gridded[:, 0, 0], alpha=0.7)\n",
    "ax.plot(obs_vec_aws.times, obs_vec_aws.values[:, 0], '--', alpha=1.0)\n",
    "ax.legend(labels=['Original System', 'Observations'])\n",
    "plt.show()"
   ]
  },
  {
   "cell_type": "code",
   "execution_count": null,
   "id": "5c1d1db8",
   "metadata": {},
   "outputs": [],
   "source": [
    "# Even though these times are datetimes, we can filter our observations by time\n",
    "# by using np.datetime objects.\n",
    "# Let's get all observations between June 1st and September 1st:\n",
    "time_start = np.datetime64('2020-06-01')\n",
    "time_end = np.datetime64('2020-09-01')\n",
    "# Run filter and save as new obs vec\n",
    "obs_vec_aws_filt = obs_vec_aws.filter_times(start=time_start, end=time_end, inclusive=True)\n",
    "print('Observation times: ', obs_vec_aws_filt.times)\n",
    "print('New number of obs: ', obs_vec_aws_filt.num_obs)"
   ]
  },
  {
   "cell_type": "markdown",
   "id": "8fbcb21f",
   "metadata": {},
   "source": [
    "# 5. Non-Stationary Observer"
   ]
  },
  {
   "cell_type": "markdown",
   "id": "0853a8c8-a750-4a6d-9130-144228fed77e",
   "metadata": {},
   "source": [
    "NOTE: These are currently not working"
   ]
  },
  {
   "cell_type": "markdown",
   "id": "93064283",
   "metadata": {},
   "source": [
    "In most cases, it's simplest to assume the observers are stationary and that we are sampling at the same location at each timestep. However, Observer allows for non-stationary observers as well, sampling different locations over time. We'll create a new set of observations from the AWS data as an example."
   ]
  },
  {
   "cell_type": "code",
   "execution_count": null,
   "id": "0253c7e0",
   "metadata": {},
   "outputs": [],
   "source": [
    "# Set up observer using our specified sampling times/locations\n",
    "obs_aws_ns = dab.observer.Observer(\n",
    "    aws, \n",
    "    time_density = 0.002,\n",
    "    location_density = 0.05,\n",
    "    error_bias = 0.0,\n",
    "    error_sd = 3.0,\n",
    "    stationary_observers=False\n",
    ")\n",
    "\n",
    "# Making observations\n",
    "obs_vec_aws_ns = obs_aws_ns.observe()"
   ]
  },
  {
   "cell_type": "code",
   "execution_count": null,
   "id": "6605f67f",
   "metadata": {},
   "outputs": [],
   "source": [
    "print('Sampling times: ', obs_vec_aws_ns.times)\n",
    "print('Number of observations: ', obs_vec_aws_ns.num_obs)\n",
    "print('Number of locations at each timestep: ', obs_vec_aws_ns.obs_dims)\n",
    "print('Sampling location indices at first timestep: ', obs_vec_aws_ns.location_indices[0])\n",
    "print('Sampling location indices at last timestep: ', obs_vec_aws_ns.location_indices[-1])\n"
   ]
  },
  {
   "cell_type": "markdown",
   "id": "bc87936b-a6ef-4836-bedf-a43805417443",
   "metadata": {},
   "source": [
    "# 6. Spectral Models"
   ]
  },
  {
   "cell_type": "markdown",
   "id": "4a8f5bc1-0ada-464e-9f6d-182d29d9d3e5",
   "metadata": {},
   "source": [
    "SQGTurb is a data generator that operates in spectral space, and so their state vector stores complex numbers with real and imaginary components. Fortunately, you can transform the data back into real space using an inverse Fourier Transform. The observer will handle this operation for you automatically, and so SQGTurb can be used with the observer in the same way as the other data generators. The main difference is that location_indices will have multiple indices per timestep, since they're specified in the original gridded dimension instead of the flattened state vector."
   ]
  },
  {
   "cell_type": "code",
   "execution_count": null,
   "id": "d34e0d7d-aaf4-4030-9c16-3af85e640e5f",
   "metadata": {},
   "outputs": [],
   "source": [
    "sqgturb = dab.data.SQGTurb()\n",
    "sqgturb.generate(n_steps=50)\n",
    "print('Complex state vector length: ', sqgturb.system_dim)\n",
    "print('Original gridded dimension in real space: ', sqgturb.original_dim)"
   ]
  },
  {
   "cell_type": "code",
   "execution_count": null,
   "id": "94cd1356-9728-4b31-86c3-6ca5b9949a7f",
   "metadata": {},
   "outputs": [],
   "source": [
    "# Set up observer \n",
    "obs_sqg = dab.observer.Observer(\n",
    "    sqgturb, \n",
    "    random_time_count = 50,\n",
    "    random_location_count = 5,\n",
    "    error_bias = 0.0,\n",
    "    error_sd = 100.,\n",
    "    stationary_observers=True\n",
    ")\n",
    "obs_vec_sqg = obs_sqg.observe()"
   ]
  },
  {
   "cell_type": "code",
   "execution_count": null,
   "id": "0f9353d3-bd8e-4fde-bfa6-3f76f70a8646",
   "metadata": {},
   "outputs": [],
   "source": [
    "print('Sampling times: ', obs_vec_sqg.times)\n",
    "print('Number of observations: ', obs_vec_sqg.num_obs)\n",
    "print('Number of locations at each timestep: ', obs_vec_sqg.obs_dims[0])\n",
    "print('Sampling location indices: ', obs_vec_sqg.location_indices[0])"
   ]
  },
  {
   "cell_type": "code",
   "execution_count": null,
   "id": "2d126893-5832-4f58-beed-e1eccc395ab0",
   "metadata": {},
   "outputs": [],
   "source": [
    "# Let's get the indices of the second sampled location:\n",
    "print(obs_vec_sqg.location_indices[0, 2])"
   ]
  },
  {
   "cell_type": "code",
   "execution_count": null,
   "id": "a85d3eac-1c96-4cf1-a2b9-00100e0124cd",
   "metadata": {},
   "outputs": [],
   "source": [
    "# Visualize\n",
    "fig, ax = plt.subplots()\n",
    "ax.plot(sqgturb.times, sqgturb.values_gridded[:, 1, 52, 79], alpha=0.9)\n",
    "ax.plot(obs_vec_sqg.times, obs_vec_sqg.values[:, 2], '--', alpha=0.9)\n",
    "ax.legend(labels=['Original System', 'Observations'])\n",
    "plt.show()"
   ]
  },
  {
   "cell_type": "markdown",
   "id": "a56b6fc5-19b6-40ce-bf46-e4f93c1f6b19",
   "metadata": {},
   "source": [
    "# 7. Basic stationary observer with random sampling *by probability*"
   ]
  },
  {
   "cell_type": "markdown",
   "id": "107f509a-dc21-4c54-867a-5649a3389659",
   "metadata": {},
   "source": [
    "If you'd prefer, you can also specify a probability that each timestep or location will be sampled using random_time_density and random_location_density. For example, if you specify random_time_density = 0.5, approximately 50% of time steps will be sampled (with the proability of each time step being selected for sampling following a Bernoulli distribution with p = random_time_density). All of the examples above can be modified to use this method instead, although the exact number of times and locations sampled will vary.\n",
    "\n",
    "NOTE: If used with stationary_observer=False, random_location_density will sample a DIFFERENT number of locations at each time step. For example, with system_dim=10 and random_location_density=0.5, it might sample 5 locations at the first timestep, 6 in the next, then 5 again, then 3, etc. It randomly selects locations at each timestep."
   ]
  },
  {
   "cell_type": "code",
   "execution_count": null,
   "id": "5117408a-b1a2-45c8-89b4-e44f9c447af1",
   "metadata": {},
   "outputs": [],
   "source": [
    "l63 = dab.data.Lorenz63()\n",
    "l63.generate(n_steps=50)"
   ]
  },
  {
   "cell_type": "code",
   "execution_count": null,
   "id": "e2c6567f-12ce-4428-a07d-d46928020610",
   "metadata": {},
   "outputs": [],
   "source": [
    "obs_l63_p = dab.observer.Observer(\n",
    "    l63, \n",
    "    random_time_density = 0.5, # Probability of picking each time step for random sampling\n",
    "    random_location_density = 0.3, # Probability of picking each location in l63.system_dim for random sampling\n",
    "    error_bias = 0.1,\n",
    "    error_sd = 1.33\n",
    ")\n",
    "\n",
    "# Making observations\n",
    "obs_vec_l63_p = obs_l63_p.observe()"
   ]
  },
  {
   "cell_type": "code",
   "execution_count": null,
   "id": "dfec9e66-e7ba-4e8f-a78a-e6140fd4f66d",
   "metadata": {},
   "outputs": [],
   "source": [
    "# Let's examine that object\n",
    "print('Sampling times: ', obs_vec_l63_p.times) # 28 out of 50 timesteps are sampled\n",
    "print('Number of observations: ', obs_vec_l63_p.num_obs)\n",
    "# In this case, 2 values (out of a total system_dim of 3) are observed at each timestep.\n",
    "print('Number of locations at each timestep: ', obs_vec_l63_p.obs_dims[0])\n",
    "print('Sampling location indices: ', obs_vec_l63_p.location_indices[0])\n",
    "print('Observation values: ', obs_vec_l63_p.values)\n",
    "print('Errors: ', obs_vec_l63_p.errors)"
   ]
  }
 ],
 "metadata": {
  "kernelspec": {
   "display_name": "Python 3 (ipykernel)",
   "language": "python",
   "name": "python3"
  },
  "language_info": {
   "codemirror_mode": {
    "name": "ipython",
    "version": 3
   },
   "file_extension": ".py",
   "mimetype": "text/x-python",
   "name": "python",
   "nbconvert_exporter": "python",
   "pygments_lexer": "ipython3",
   "version": "3.11.0"
  }
 },
 "nbformat": 4,
 "nbformat_minor": 5
}
