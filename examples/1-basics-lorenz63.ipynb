{
 "cells": [
  {
   "cell_type": "markdown",
   "id": "f0fd0899",
   "metadata": {},
   "source": [
    "# 1. Example: DataAssimBench basics and generating data from Lorenz63 model\n",
    "\n",
    "In this notebook, we will introduce the basic principles DataAssimBench and generate data from the most simple model in the library: the Lorenz 1963 model."
   ]
  },
  {
   "cell_type": "markdown",
   "id": "9dc1637a",
   "metadata": {},
   "source": [
    "### Part I: Import dabench.data\n",
    "\n",
    "The \"data\" sub-package is dabench's interface for generating and loading datasets."
   ]
  },
  {
   "cell_type": "code",
   "execution_count": null,
   "id": "029ba699",
   "metadata": {},
   "outputs": [],
   "source": [
    "from dabench import data"
   ]
  },
  {
   "cell_type": "code",
   "execution_count": null,
   "id": "a5a02d7b",
   "metadata": {},
   "outputs": [],
   "source": [
    "# Running help on data shows that available data classes (under the heading \"CLASSES\")\n",
    "help(data) "
   ]
  },
  {
   "cell_type": "code",
   "execution_count": null,
   "id": "b1ad95e6",
   "metadata": {},
   "outputs": [],
   "source": [
    "# We can get more info about a particular class by running help() on it\n",
    "help(data.Lorenz63)"
   ]
  },
  {
   "cell_type": "markdown",
   "id": "4e297908",
   "metadata": {},
   "source": [
    "As we can see, this class implements the model first published in Lorenz, 1963:https://doi.org/10.1175/1520-0469(1963)020%3C0130:DNF%3E2.0.CO;2\n",
    "\n",
    "This is a three-variable model. By default, our initial state (x0) is [-10.0, -15.0, 21.3].\n",
    "\n",
    "In addition to the the initial state, there are three paramaters: sigma, rho, and beta. All of these have sensible defaults (taken from the original Lorenz 1963 paper) so there is no reason to tweak them unless we want to customize our model settings. "
   ]
  },
  {
   "cell_type": "markdown",
   "id": "52af84bd",
   "metadata": {},
   "source": [
    "### Part II: Create model object and generate data\n",
    "\n",
    "To generate data from a dabench.data model, we first create a model object. If we want, this is where we can change the parameters and initial state of the model. But for starters, let's just stick with the defaults."
   ]
  },
  {
   "cell_type": "code",
   "execution_count": null,
   "id": "7c3f1910",
   "metadata": {},
   "outputs": [],
   "source": [
    "l63_model = data.Lorenz63()"
   ]
  },
  {
   "cell_type": "code",
   "execution_count": null,
   "id": "49582f3f",
   "metadata": {},
   "outputs": [],
   "source": [
    "# Generating data is as easy as using the .generate() method. This is the same for all models in dabench.data(). \n",
    "# We must specify n_steps to determine how long we want our model to run. Let's start with 1000\n",
    "l63_model.generate(n_steps=1000)"
   ]
  },
  {
   "cell_type": "markdown",
   "id": "2a374e5f",
   "metadata": {},
   "source": [
    "### Part III: Examine generated data\n",
    "\n",
    "The generated data for the Lorenz63 model is accessed as l63_model.values. This is the same scheme for all models/data loaders in dabench.data."
   ]
  },
  {
   "cell_type": "code",
   "execution_count": null,
   "id": "954651b3",
   "metadata": {},
   "outputs": [],
   "source": [
    "# We can see how we start with the initial condition [-10.0, -15.0, 21.3] and proceed from there\n",
    "print(l63_model.values)"
   ]
  },
  {
   "cell_type": "code",
   "execution_count": null,
   "id": "27cb74d0",
   "metadata": {},
   "outputs": [],
   "source": [
    "# Shape is (n_steps, system_dim), in this case (1000, 3)\n",
    "print(l63_model.values.shape)"
   ]
  },
  {
   "cell_type": "code",
   "execution_count": null,
   "id": "e3337c6d",
   "metadata": {},
   "outputs": [],
   "source": [
    "# Let's plot our data using matplotlib\n",
    "import matplotlib.pyplot as plt"
   ]
  },
  {
   "cell_type": "code",
   "execution_count": null,
   "id": "0d6c6a1e",
   "metadata": {},
   "outputs": [],
   "source": [
    "# Since we have 3 variables in our model (X, Y, and Z), let's choose X and Z for plotting in 2D\n",
    "plt.plot(l63_model.values[:,0], l63_model.values[:,2])\n",
    "plt.xlabel('X')\n",
    "plt.ylabel('Z')\n",
    "plt.show()"
   ]
  },
  {
   "cell_type": "markdown",
   "id": "a90f7eef",
   "metadata": {},
   "source": [
    "Lorenz63 is famous for it's \"butterfly\" attractor shape. You should be able to see that in the plot above"
   ]
  },
  {
   "cell_type": "markdown",
   "id": "3e7297ad",
   "metadata": {},
   "source": [
    "### Part IV: Demonstrating chaos - tweaking initial conditions\n",
    "\n",
    "\n",
    "The Lorenz, 1963 paper is famous for demonstrating the idea of \"chaos\", meaning that _minutely_ different initial conditions eventually result in wildly divergent outcomes. Let's test that here by tweaking in the intitial conditions."
   ]
  },
  {
   "cell_type": "code",
   "execution_count": null,
   "id": "6241b3f2",
   "metadata": {},
   "outputs": [],
   "source": [
    "import numpy as np"
   ]
  },
  {
   "cell_type": "code",
   "execution_count": null,
   "id": "5243320b",
   "metadata": {},
   "outputs": [],
   "source": [
    "# Add 0.01 to Z in the initial state\n",
    "new_x0 = l63_model.x0 + np.array([0, 0, 0.01])\n",
    "print(new_x0)"
   ]
  },
  {
   "cell_type": "code",
   "execution_count": null,
   "id": "4c4e28e0",
   "metadata": {},
   "outputs": [],
   "source": [
    "l63_new = data.Lorenz63(x0=new_x0)\n",
    "l63_new.generate(n_steps=1000)"
   ]
  },
  {
   "cell_type": "code",
   "execution_count": null,
   "id": "edcd8bc8",
   "metadata": {},
   "outputs": [],
   "source": [
    "# Now let's compare the final timesteps for our old and new model\n",
    "print('Previous final values:', l63_model.values[-1])\n",
    "print('New final values:', l63_new.values[-1])"
   ]
  },
  {
   "cell_type": "markdown",
   "id": "dc17f262",
   "metadata": {},
   "source": [
    "We can see that we have wildly different outcomes despite a very small change to the initial conditions. This is the basic principle of chaos in weather modeling."
   ]
  },
  {
   "cell_type": "code",
   "execution_count": null,
   "id": "1d8a4cbc",
   "metadata": {},
   "outputs": [],
   "source": [
    "# Despite having different outcomes, the two model trajectories have very similar overall shapes\n",
    "plt.plot(l63_model.values[:,0], l63_model.values[:,2], label=\"Old\")\n",
    "plt.plot(l63_new.values[:,0], l63_new.values[:,2], label='New')\n",
    "plt.xlabel('X')\n",
    "plt.ylabel('Z')\n",
    "plt.legend()\n",
    "plt.show()"
   ]
  },
  {
   "cell_type": "markdown",
   "id": "36bdfba4",
   "metadata": {},
   "source": [
    "## Wrapping UP\n",
    "\n",
    "That's it for the basics of dabench data generators! Feel free to experiment with changing the Lorenz63 parameters or the length of the run (n_steps). You can also try a different model like Lorenz96, which is a bit more complex, or go to the next example notebook for an even more complex \"surface quasi-geostrophic turbulence\" (sqgturb) model. "
   ]
  }
 ],
 "metadata": {
  "kernelspec": {
   "display_name": "dab-installed",
   "language": "python",
   "name": "dab-installed"
  },
  "language_info": {
   "codemirror_mode": {
    "name": "ipython",
    "version": 3
   },
   "file_extension": ".py",
   "mimetype": "text/x-python",
   "name": "python",
   "nbconvert_exporter": "python",
   "pygments_lexer": "ipython3",
   "version": "3.8.13"
  }
 },
 "nbformat": 4,
 "nbformat_minor": 5
}
