{
 "cells": [
  {
   "cell_type": "markdown",
   "id": "9609b7c3",
   "metadata": {},
   "source": [
    "# 3. Example: pyqg package models\n",
    "\n",
    "DataAssimBench can also interface with pyqg, an external package for quasigeostrophic models. pyqg stands for Python Quasigeostrophic model:\n",
    "\n",
    "https://pyqg.readthedocs.io/en/latest/\n",
    "\n",
    "\n",
    "In this example, we'll run through generating data using a couple types of models available in pyqg.\n"
   ]
  },
  {
   "cell_type": "markdown",
   "id": "43f9dfe9",
   "metadata": {},
   "source": [
    "### Part I: Installing pyqg and imports\n",
    "\n",
    "Since pyqg is an external package, we'll need to install it before we can use it via DataAssimBench.\n",
    "\n",
    "Installing pyqg is easy. If you're using conda (recommended), just run the following in your terminal:\n",
    "\n",
    "```bash\n",
    "conda install -c conda-forge pyqg\n",
    "```\n",
    "\n",
    "For more info and alternative methods of installing pyqg, see: https://pyqg.readthedocs.io/en/latest/installation.html\n",
    "\n",
    "Once you've installed pyqg, let's import dabench and matplotlib.\n",
    "\n",
    "If pyqg was NOT installed correctly, you'll see the following warning: \n",
    "\n",
    "```bash\n",
    "WARNING:root:Package: pyqg not found!\n",
    "PyQG will not work without this optional package\n",
    "To install via conda: conda install -c conda-forge pyqg\n",
    "For more information: https://pyqg.readthedocs.io/en/latest/installation.html\n",
    "```\n",
    "\n",
    "If you don't see this warning, you're ready to go! If you do see this warning, try installing pyqg again, restart the kernel of this notebook, and try running the import again."
   ]
  },
  {
   "cell_type": "code",
   "execution_count": null,
   "id": "de3d8f2f",
   "metadata": {},
   "outputs": [],
   "source": [
    "import matplotlib.pyplot as plt\n",
    "from dabench import data"
   ]
  },
  {
   "cell_type": "markdown",
   "id": "e120e3f6",
   "metadata": {},
   "source": [
    "### Part II: Two-Layer QG Model \n",
    "\n",
    "First, we'll recreate [this example](https://pyqg.readthedocs.io/en/latest/examples/two-layer.html) from the pyqg docs, but without having to interface with pyqg directly. We'll create the model object, generate the data, and view the results just like we would any other dabench data generator.\n",
    "\n",
    "NOTE: You may get a an error that says something like:\n",
    "\n",
    "```\n",
    "RuntimeError: Undefined plan with nthreads. This is a bug\n",
    "```\n",
    "\n",
    "This is a bug within the pyFFTW library. For more info and workarounds, see: https://github.com/pyFFTW/pyFFTW/issues/294. But this error can be safely ignored, the model will run fine regardless. "
   ]
  },
  {
   "cell_type": "code",
   "execution_count": null,
   "id": "108ad515",
   "metadata": {},
   "outputs": [],
   "source": [
    "qg2l_model = data.PyQG()"
   ]
  },
  {
   "cell_type": "code",
   "execution_count": null,
   "id": "96587b5d",
   "metadata": {},
   "outputs": [],
   "source": [
    "# Generate model trajectory. This may take a minute or two. \n",
    "# Feel free to shorten n_steps if it is taking too long.\n",
    "qg2l_model.generate(n_steps=40000)"
   ]
  },
  {
   "cell_type": "code",
   "execution_count": null,
   "id": "36bf2b73",
   "metadata": {},
   "outputs": [],
   "source": [
    "# What does our initial state look like?\n",
    "# In this case, we start with a random initial state\n",
    "print(qg2l_model.x0_gridded.shape) # 2 layers, 64x64\n",
    "plt.imshow(qg2l_model.x0_gridded[0]) # Visualize first layer\n",
    "plt.xlabel('x')\n",
    "plt.ylabel('y')\n",
    "plt.title('PyQG Two-Layer Model: initial state')\n",
    "plt.show()\n"
   ]
  },
  {
   "cell_type": "code",
   "execution_count": null,
   "id": "563ce663",
   "metadata": {},
   "outputs": [],
   "source": [
    "# Our trajectory has 40000 timesteps and a system_dim of 8192\n",
    "# 8192 = 2 x 64 x 64\n",
    "print(qg2l_model.values.shape)"
   ]
  },
  {
   "cell_type": "code",
   "execution_count": null,
   "id": "2f9b5a46",
   "metadata": {},
   "outputs": [],
   "source": [
    "# We can access our values in gridded dimension using the values_gridded attribute\n",
    "print(qg2l_model.values_gridded.shape)"
   ]
  },
  {
   "cell_type": "code",
   "execution_count": null,
   "id": "93d465a3",
   "metadata": {},
   "outputs": [],
   "source": [
    "# Now let's plot the initial state vs the final state\n",
    "fig, ax = plt.subplots(1, 2)\n",
    "fig.suptitle('PyQG Two-Layer Model')\n",
    "ax[0].imshow(qg2l_model.values_gridded[0, 0])\n",
    "ax[0].set_title('Timestep = 0')\n",
    "ax[0].set_xlabel('x'); ax[0].set_ylabel('y')\n",
    "ax[1].imshow(qg2l_model.values_gridded[-1, 0])\n",
    "ax[1].set_title('Timestep = 40000')\n",
    "ax[1].set_xlabel('x'); ax[1].set_ylabel('y')\n",
    "fig.tight_layout()\n",
    "fig.subplots_adjust(top=1.2)\n",
    "plt.show()"
   ]
  },
  {
   "cell_type": "code",
   "execution_count": null,
   "id": "6a61c185",
   "metadata": {},
   "outputs": [],
   "source": [
    "# Now let's plot the bottom layer vs the top at the final timestep\n",
    "fig, ax = plt.subplots(1, 2)\n",
    "fig.suptitle('PyQG Two-Layer Model')\n",
    "ax[0].imshow(qg2l_model.values_gridded[-1, 0])\n",
    "ax[0].set_title('Layer = 0, Timestep = 40000')\n",
    "ax[0].set_xlabel('x'); ax[0].set_ylabel('y')\n",
    "ax[1].imshow(qg2l_model.values_gridded[-1, 1])\n",
    "ax[1].set_title('Layer = 1, Timestep = 40000')\n",
    "ax[1].set_xlabel('x'); ax[1].set_ylabel('y')\n",
    "fig.tight_layout()\n",
    "fig.subplots_adjust(top=1.2)\n",
    "plt.show()"
   ]
  },
  {
   "cell_type": "markdown",
   "id": "a37feece",
   "metadata": {},
   "source": [
    "### Part III: Barotropic Model\n",
    "\n",
    "Next, we'll recreate [another example](https://pyqg.readthedocs.io/en/latest/examples/two-layer.html) from the pyqg docs. In this case, we're reproducing the results of:\n",
    "- J. C. Mcwilliams (1984). The emergence of isolated coherent vortices in turbulent flow. Journal of Fluid Mechanics, 146, pp 21-43 doi:10.1017/S0022112084001750\n",
    "\n"
   ]
  },
  {
   "cell_type": "code",
   "execution_count": null,
   "id": "f00eb5ff",
   "metadata": {},
   "outputs": [],
   "source": [
    "baro_model = data.Barotropic()"
   ]
  },
  {
   "cell_type": "code",
   "execution_count": null,
   "id": "d92ac338",
   "metadata": {},
   "outputs": [],
   "source": [
    "# Generate model trajectory\n",
    "baro_model.generate(n_steps=10000)"
   ]
  },
  {
   "cell_type": "code",
   "execution_count": null,
   "id": "40f4cc7c",
   "metadata": {},
   "outputs": [],
   "source": [
    "# What does our initial state look like?\n",
    "print(baro_model.x0_gridded.shape) # 1 layer, 256x256\n",
    "plt.imshow(baro_model.x0_gridded[0]) # Visualize\n",
    "plt.xlabel('x')\n",
    "plt.ylabel('y')\n",
    "plt.title('PyQG Barotropic: initial state')\n",
    "plt.show()"
   ]
  },
  {
   "cell_type": "code",
   "execution_count": null,
   "id": "1eab7c79",
   "metadata": {},
   "outputs": [],
   "source": [
    "# Our trajectory has 10001 timesteps (includes x0) and a system_dim of 65536\n",
    "# 65536 = 1 x 256 x 256\n",
    "print(baro_model.values.shape)"
   ]
  },
  {
   "cell_type": "code",
   "execution_count": null,
   "id": "a844bcc3",
   "metadata": {},
   "outputs": [],
   "source": [
    "# View our values in the gridded dimensions\n",
    "print(baro_model.values_gridded.shape)"
   ]
  },
  {
   "cell_type": "code",
   "execution_count": null,
   "id": "5d0eb9f2",
   "metadata": {},
   "outputs": [],
   "source": [
    "# Now let's plot the initial state vs the final state\n",
    "fig, ax = plt.subplots(1, 2)\n",
    "fig.suptitle('Barotropic Model')\n",
    "ax[0].imshow(baro_model.values_gridded[0, 0])\n",
    "ax[0].set_title('Timestep = 0')\n",
    "ax[0].set_xlabel('x'); ax[0].set_ylabel('y')\n",
    "ax[1].imshow(baro_model.values_gridded[-1, 0])\n",
    "ax[1].set_title('Timestep = 10000')\n",
    "ax[1].set_xlabel('x'); ax[1].set_ylabel('y')\n",
    "fig.tight_layout()\n",
    "fig.subplots_adjust(top=1.2)\n",
    "plt.show()"
   ]
  }
 ],
 "metadata": {
  "kernelspec": {
   "display_name": "dab-installed",
   "language": "python",
   "name": "dab-installed"
  },
  "language_info": {
   "codemirror_mode": {
    "name": "ipython",
    "version": 3
   },
   "file_extension": ".py",
   "mimetype": "text/x-python",
   "name": "python",
   "nbconvert_exporter": "python",
   "pygments_lexer": "ipython3",
   "version": "3.8.13"
  }
 },
 "nbformat": 4,
 "nbformat_minor": 5
}
