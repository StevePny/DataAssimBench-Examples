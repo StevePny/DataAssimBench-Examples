{
 "cells": [
  {
   "cell_type": "code",
   "execution_count": 1,
   "id": "04bc5ea0",
   "metadata": {},
   "outputs": [],
   "source": [
    "import dabench as dab\n",
    "import numpy as np\n",
    "import jax\n",
    "from timeit import default_timer as timer\n",
    "import pandas as pd\n",
    "\n",
    "from ray import train, tune\n",
    "from hyperopt import hp\n",
    "from ray.tune.search.hyperopt import HyperOptSearch"
   ]
  },
  {
   "cell_type": "code",
   "execution_count": 2,
   "id": "71c64ebe",
   "metadata": {},
   "outputs": [],
   "source": [
    "%%bash\n",
    "mkdir -p out/l96"
   ]
  },
  {
   "cell_type": "markdown",
   "id": "31e854ed",
   "metadata": {},
   "source": [
    "# Define parameters"
   ]
  },
  {
   "cell_type": "code",
   "execution_count": 7,
   "id": "b82d851e",
   "metadata": {},
   "outputs": [],
   "source": [
    "system_dim= 36\n",
    "spinup_size = 14400\n",
    "valid_size = 5000\n",
    "test_size = 5000\n",
    "nr_steps = spinup_size + valid_size + test_size\n",
    "delta_t=0.01\n",
    "obs_sd = 0.5\n",
    "sigma_bg = 0.3\n",
    "sigma_obs = 0.625\n",
    "analysis_window = 0.1\n",
    "analysis_time_in_window = 0.05\n",
    "obs_location_count = 18\n",
    "random_seed = 5\n",
    "num_iters = 3\n",
    "n_outer_loops = 3 "
   ]
  },
  {
   "cell_type": "markdown",
   "id": "7063b9f1",
   "metadata": {},
   "source": [
    "# Function definition: Backprop 4DVar\n",
    "\n",
    "We'll need to prep and run Backprop-4DVar many times, so this wraps it all into one function"
   ]
  },
  {
   "cell_type": "code",
   "execution_count": 8,
   "id": "873bf6bb",
   "metadata": {},
   "outputs": [],
   "source": [
    "def run_backprop_4dvar(system_dim, nr_steps, spinup_size, valid_size, test_size, \n",
    "                       test_run, delta_t, obs_location_count, obs_sd, sigma_bg, \n",
    "                       sigma_obs, analysis_window, analysis_time_in_window, \n",
    "                       random_seed, num_iters, learning_rate, lr_decay):\n",
    "    np_rng = np.random.default_rng(random_seed)\n",
    "    jax.clear_caches()\n",
    "\n",
    "    ### Nature Run\n",
    "    nature_run = dab.data.Lorenz96(system_dim=system_dim, delta_t=delta_t,\n",
    "                                   store_as_jax=True, random_seed=random_seed)\n",
    "\n",
    "    x0_initial = np_rng.normal(size=system_dim, scale=1)\n",
    "    nature_run.generate(n_steps=nr_steps, x0 = x0_initial) \n",
    "    nr_spinup, nr_valid, nr_test = nature_run.split_train_valid_test(\n",
    "        spinup_size, valid_size, test_size)\n",
    "\n",
    "    if not test_run:\n",
    "        nr_eval = nr_valid\n",
    "    else:\n",
    "        nr_eval = nr_test\n",
    "\n",
    "\n",
    "    ### Observations\n",
    "    obs_l96 = dab.observer.Observer(\n",
    "        nr_eval,\n",
    "        time_indices = np.arange(0, nr_eval.time_dim, 5),\n",
    "        random_location_count = obs_location_count,\n",
    "        error_bias = 0.0,\n",
    "        error_sd = obs_sd,\n",
    "        random_seed=random_seed,\n",
    "        stationary_observers=True,\n",
    "        store_as_jax=True\n",
    "    )\n",
    "    obs_vec_l96 = obs_l96.observe()\n",
    "\n",
    "    \n",
    "    ### Forecast Model\n",
    "    model_l96 = dab.data.Lorenz96(system_dim=system_dim, delta_t=delta_t, \n",
    "                                  store_as_jax=True, random_seed=random_seed)\n",
    "\n",
    "    class L96Model(dab.model.Model):                                                                       \n",
    "        \"\"\"Defines model wrapper for Lorenz96 to test forecasting.\"\"\"\n",
    "        def forecast(self, state_vec, n_steps):\n",
    "            self.model_obj.generate(x0=state_vec.values, n_steps=n_steps)\n",
    "            new_vals = self.model_obj.values \n",
    "\n",
    "            new_vec = dab.vector.StateVector(values=new_vals, store_as_jax=True)\n",
    "\n",
    "            return new_vec\n",
    "\n",
    "    fc_model = L96Model(model_obj=model_l96)\n",
    "    \n",
    "    ### Set up DA matrices: H (observation), R (obs error), B (background error)\n",
    "    H = np.zeros((obs_location_count, system_dim))\n",
    "    H[np.arange(H.shape[0]), obs_vec_l96.location_indices[0]] = 1\n",
    "    R = (sigma_obs**2)* np.identity(obs_location_count)\n",
    "    B = (sigma_bg**2)*np.identity(system_dim)\n",
    "\n",
    "    \n",
    "    ### Run data assimilation\n",
    "    da_time_start = timer()\n",
    "    \n",
    "    # Prep DA object\n",
    "    dc = dab.dacycler.Var4DBackprop(\n",
    "        system_dim=system_dim,\n",
    "        delta_t=nr_eval.delta_t,\n",
    "        H=H,\n",
    "        B=B,\n",
    "        R=R,\n",
    "        num_iters=num_iters,\n",
    "        loss_growth_limit=5,\n",
    "        learning_rate=learning_rate,\n",
    "        lr_decay=lr_decay,\n",
    "        model_obj=fc_model,\n",
    "        obs_window_indices=[0,5,10],\n",
    "        steps_per_window=11, # 11 instead of 10 because inclusive of 0 and 11\n",
    "        )\n",
    "\n",
    "    # Generate initial conditions\n",
    "    cur_tstep = 0\n",
    "    x0_original = nr_eval.values[cur_tstep] + np_rng.normal(size=(system_dim,), \n",
    "                                                            scale=1)\n",
    "    x0_sv = dab.vector.StateVector(\n",
    "        values=x0_original,\n",
    "        store_as_jax=True)\n",
    "    \n",
    "    # Execute\n",
    "    out_statevec = dc.cycle(\n",
    "        input_state = x0_sv,\n",
    "        start_time = nr_eval.times[cur_tstep],\n",
    "        obs_vector = obs_vec_l96,\n",
    "        analysis_window=analysis_window,\n",
    "        timesteps=498,\n",
    "        obs_error_sd=sigma_obs,\n",
    "        analysis_time_in_window=analysis_time_in_window)\n",
    "    \n",
    "    da_time = timer()-da_time_start\n",
    "    rmse = np.sqrt(np.mean(np.square(nr_eval.values[:-20] - out_statevec.values)))\n",
    "    \n",
    "    return out_statevec, rmse, obs_vec_l96, nr_eval, da_time"
   ]
  },
  {
   "cell_type": "markdown",
   "id": "a9304a47",
   "metadata": {},
   "source": [
    "# Hyperparameter optimization on validation set\n",
    "\n",
    "Using RayTune to optimize alpha (learning rate) and alpha decay"
   ]
  },
  {
   "cell_type": "code",
   "execution_count": 9,
   "id": "5b83d57e",
   "metadata": {},
   "outputs": [],
   "source": [
    "def train_backprop_4dvar(config, system_dim, num_obs, obs_sd):\n",
    "    \"\"\"A wrapper for RayTune to run backprop 4Dvar\"\"\"\n",
    "    random_seed = system_dim \n",
    "    obs_location_count = num_obs\n",
    "    run_dict = dict(\n",
    "        system_dim=system_dim, \n",
    "        nr_steps=nr_steps,\n",
    "        spinup_size=spinup_size,\n",
    "        valid_size=valid_size,\n",
    "        test_size=test_size,\n",
    "        test_run=False,\n",
    "        delta_t=delta_t,\n",
    "        obs_location_count=obs_location_count,\n",
    "        obs_sd=obs_sd,\n",
    "        sigma_bg=obs_sd/1.5,\n",
    "        sigma_obs=obs_sd*1.25,\n",
    "        analysis_window=analysis_window,\n",
    "        analysis_time_in_window=analysis_time_in_window,\n",
    "        random_seed=random_seed,\n",
    "        num_iters=num_iters,\n",
    "        learning_rate=0,\n",
    "        lr_decay = 0)\n",
    "\n",
    "    run_dict['learning_rate'] = config['lr']\n",
    "    run_dict['lr_decay'] = config['lr_decay']\n",
    "    \n",
    "    out_bp, error_bp, obs_vec_l96, nr_eval, da_time = run_backprop_4dvar(**run_dict)\n",
    "    \n",
    "    train.report({'rmse':error_bp})"
   ]
  },
  {
   "cell_type": "markdown",
   "id": "3dec0ffa",
   "metadata": {},
   "source": [
    "### System size experiments"
   ]
  },
  {
   "cell_type": "code",
   "execution_count": 6,
   "id": "7dfe6319",
   "metadata": {},
   "outputs": [],
   "source": [
    "# Define search space\n",
    "space = {\n",
    "    \"lr\": hp.loguniform(\"lr\", -10, 0),\n",
    "    \"lr_decay\": hp.uniform(\"lr_decay\", 0.1, 0.99),\n",
    "}"
   ]
  },
  {
   "cell_type": "code",
   "execution_count": 7,
   "id": "74fe46d0",
   "metadata": {
    "scrolled": true
   },
   "outputs": [
    {
     "data": {
      "text/html": [
       "<div class=\"tuneStatus\">\n",
       "  <div style=\"display: flex;flex-direction: row\">\n",
       "    <div style=\"display: flex;flex-direction: column;\">\n",
       "      <h3>Tune Status</h3>\n",
       "      <table>\n",
       "<tbody>\n",
       "<tr><td>Current time:</td><td>2024-06-11 14:55:43</td></tr>\n",
       "<tr><td>Running for: </td><td>00:06:09.40        </td></tr>\n",
       "<tr><td>Memory:      </td><td>14.3/30.2 GiB      </td></tr>\n",
       "</tbody>\n",
       "</table>\n",
       "    </div>\n",
       "    <div class=\"vDivider\"></div>\n",
       "    <div class=\"systemInfo\">\n",
       "      <h3>System Info</h3>\n",
       "      Using FIFO scheduling algorithm.<br>Logical resource usage: 16.0/16 CPUs, 0/0 GPUs\n",
       "    </div>\n",
       "    \n",
       "  </div>\n",
       "  <div class=\"hDivider\"></div>\n",
       "  <div class=\"trialStatus\">\n",
       "    <h3>Trial Status</h3>\n",
       "    <table>\n",
       "<thead>\n",
       "<tr><th>Trial name                   </th><th>status    </th><th>loc                 </th><th style=\"text-align: right;\">         lr</th><th style=\"text-align: right;\">  lr_decay</th><th style=\"text-align: right;\">  iter</th><th style=\"text-align: right;\">  total time (s)</th><th style=\"text-align: right;\">   rmse</th></tr>\n",
       "</thead>\n",
       "<tbody>\n",
       "<tr><td>train_backprop_4dvar_d81d8bcc</td><td>RUNNING   </td><td>192.168.0.249:176836</td><td style=\"text-align: right;\">0.135031   </td><td style=\"text-align: right;\">  0.437126</td><td style=\"text-align: right;\">      </td><td style=\"text-align: right;\">                </td><td style=\"text-align: right;\">       </td></tr>\n",
       "<tr><td>train_backprop_4dvar_9febde54</td><td>PENDING   </td><td>                    </td><td style=\"text-align: right;\">0.0038607  </td><td style=\"text-align: right;\">  0.393393</td><td style=\"text-align: right;\">      </td><td style=\"text-align: right;\">                </td><td style=\"text-align: right;\">       </td></tr>\n",
       "<tr><td>train_backprop_4dvar_f83c1671</td><td>TERMINATED</td><td>192.168.0.249:172253</td><td style=\"text-align: right;\">6.41662e-05</td><td style=\"text-align: right;\">  0.711967</td><td style=\"text-align: right;\">     1</td><td style=\"text-align: right;\">        131.809 </td><td style=\"text-align: right;\">5.25383</td></tr>\n",
       "<tr><td>train_backprop_4dvar_ac16fc1c</td><td>TERMINATED</td><td>192.168.0.249:174140</td><td style=\"text-align: right;\">0.00155875 </td><td style=\"text-align: right;\">  0.17249 </td><td style=\"text-align: right;\">     1</td><td style=\"text-align: right;\">         17.1571</td><td style=\"text-align: right;\">5.19851</td></tr>\n",
       "<tr><td>train_backprop_4dvar_2b64d62c</td><td>TERMINATED</td><td>192.168.0.249:174604</td><td style=\"text-align: right;\">0.00120958 </td><td style=\"text-align: right;\">  0.890643</td><td style=\"text-align: right;\">     1</td><td style=\"text-align: right;\">         21.3363</td><td style=\"text-align: right;\">5.23255</td></tr>\n",
       "<tr><td>train_backprop_4dvar_fee5a340</td><td>TERMINATED</td><td>192.168.0.249:175278</td><td style=\"text-align: right;\">0.000101951</td><td style=\"text-align: right;\">  0.910586</td><td style=\"text-align: right;\">     1</td><td style=\"text-align: right;\">         19.4053</td><td style=\"text-align: right;\">5.21081</td></tr>\n",
       "<tr><td>train_backprop_4dvar_da844860</td><td>TERMINATED</td><td>192.168.0.249:175610</td><td style=\"text-align: right;\">0.00156493 </td><td style=\"text-align: right;\">  0.418865</td><td style=\"text-align: right;\">     1</td><td style=\"text-align: right;\">         19.803 </td><td style=\"text-align: right;\">5.40696</td></tr>\n",
       "<tr><td>train_backprop_4dvar_62c94ac2</td><td>TERMINATED</td><td>192.168.0.249:175908</td><td style=\"text-align: right;\">0.140245   </td><td style=\"text-align: right;\">  0.854714</td><td style=\"text-align: right;\">     1</td><td style=\"text-align: right;\">         17.6376</td><td style=\"text-align: right;\">0.43664</td></tr>\n",
       "<tr><td>train_backprop_4dvar_2b87265a</td><td>TERMINATED</td><td>192.168.0.249:176211</td><td style=\"text-align: right;\">0.0170713  </td><td style=\"text-align: right;\">  0.664552</td><td style=\"text-align: right;\">     1</td><td style=\"text-align: right;\">         17.6616</td><td style=\"text-align: right;\">4.00711</td></tr>\n",
       "<tr><td>train_backprop_4dvar_f493dac4</td><td>TERMINATED</td><td>192.168.0.249:176521</td><td style=\"text-align: right;\">0.927751   </td><td style=\"text-align: right;\">  0.468668</td><td style=\"text-align: right;\">     1</td><td style=\"text-align: right;\">         19.1296</td><td style=\"text-align: right;\">1.07684</td></tr>\n",
       "</tbody>\n",
       "</table>\n",
       "  </div>\n",
       "</div>\n",
       "<style>\n",
       ".tuneStatus {\n",
       "  color: var(--jp-ui-font-color1);\n",
       "}\n",
       ".tuneStatus .systemInfo {\n",
       "  display: flex;\n",
       "  flex-direction: column;\n",
       "}\n",
       ".tuneStatus td {\n",
       "  white-space: nowrap;\n",
       "}\n",
       ".tuneStatus .trialStatus {\n",
       "  display: flex;\n",
       "  flex-direction: column;\n",
       "}\n",
       ".tuneStatus h3 {\n",
       "  font-weight: bold;\n",
       "}\n",
       ".tuneStatus .hDivider {\n",
       "  border-bottom-width: var(--jp-border-width);\n",
       "  border-bottom-color: var(--jp-border-color0);\n",
       "  border-bottom-style: solid;\n",
       "}\n",
       ".tuneStatus .vDivider {\n",
       "  border-left-width: var(--jp-border-width);\n",
       "  border-left-color: var(--jp-border-color0);\n",
       "  border-left-style: solid;\n",
       "  margin: 0.5em 1em 0.5em 1em;\n",
       "}\n",
       "</style>\n"
      ],
      "text/plain": [
       "<IPython.core.display.HTML object>"
      ]
     },
     "metadata": {},
     "output_type": "display_data"
    },
    {
     "name": "stderr",
     "output_type": "stream",
     "text": [
      "\u001b[36m(train_backprop_4dvar pid=172253)\u001b[0m /tmp/ipykernel_169542/1837075594.py:6: DeprecationWarning: jax.clear_backends is deprecated.\n"
     ]
    },
    {
     "name": "stdout",
     "output_type": "stream",
     "text": [
      "\u001b[36m(train_backprop_4dvar pid=172253)\u001b[0m [[ 28.07867463  28.07412639  28.07088946]\n",
      "\u001b[36m(train_backprop_4dvar pid=172253)\u001b[0m  [ 71.57125221  71.550212    71.53523923]\n",
      "\u001b[36m(train_backprop_4dvar pid=172253)\u001b[0m  [151.74321096 151.70264896 151.67378378]\n",
      "\u001b[36m(train_backprop_4dvar pid=172253)\u001b[0m  ...\n",
      "\u001b[36m(train_backprop_4dvar pid=172253)\u001b[0m  [273.30950889 273.26930963 273.24069862]\n",
      "\u001b[36m(train_backprop_4dvar pid=172253)\u001b[0m  [208.25943168 208.22513458 208.20072482]\n",
      "\u001b[36m(train_backprop_4dvar pid=172253)\u001b[0m  [183.21065004 183.17359444 183.14722231]]\n"
     ]
    },
    {
     "name": "stderr",
     "output_type": "stream",
     "text": [
      "\u001b[36m(train_backprop_4dvar pid=174140)\u001b[0m /tmp/ipykernel_169542/1837075594.py:6: DeprecationWarning: jax.clear_backends is deprecated.\n"
     ]
    },
    {
     "name": "stdout",
     "output_type": "stream",
     "text": [
      "\u001b[36m(train_backprop_4dvar pid=174140)\u001b[0m  [150.13942426 149.16726516 149.00121814]\n",
      "\u001b[36m(train_backprop_4dvar pid=174140)\u001b[0m  [482.5793027  480.79438437 480.48859941]\n",
      "\u001b[36m(train_backprop_4dvar pid=174140)\u001b[0m  [479.4559678  477.39235305 477.03900635]\n",
      "\u001b[36m(train_backprop_4dvar pid=174140)\u001b[0m  [677.93424813 675.25120966 674.79169314]]\n",
      "\u001b[36m(train_backprop_4dvar pid=174140)\u001b[0m [[ 28.07867463  27.96845592  27.94959719]\n",
      "\u001b[36m(train_backprop_4dvar pid=174140)\u001b[0m  [ 71.27030986  70.76291536  70.67626381]\n",
      "\u001b[36m(train_backprop_4dvar pid=174140)\u001b[0m  ...\n"
     ]
    },
    {
     "name": "stderr",
     "output_type": "stream",
     "text": [
      "\u001b[36m(train_backprop_4dvar pid=174604)\u001b[0m /tmp/ipykernel_169542/1837075594.py:6: DeprecationWarning: jax.clear_backends is deprecated.\n"
     ]
    },
    {
     "name": "stdout",
     "output_type": "stream",
     "text": [
      "\u001b[36m(train_backprop_4dvar pid=174604)\u001b[0m [[ 28.07867463  27.99309721  27.91746117]\n",
      "\u001b[36m(train_backprop_4dvar pid=174604)\u001b[0m  [ 71.03377489  70.64109965  70.29466798]\n",
      "\u001b[36m(train_backprop_4dvar pid=174604)\u001b[0m  [148.88640619 148.13773051 147.47713208]\n",
      "\u001b[36m(train_backprop_4dvar pid=174604)\u001b[0m  ...\n",
      "\u001b[36m(train_backprop_4dvar pid=174604)\u001b[0m  [106.16251928 105.83383137 105.54309229]\n",
      "\u001b[36m(train_backprop_4dvar pid=174604)\u001b[0m  [178.91854114 178.35934068 177.86469654]\n",
      "\u001b[36m(train_backprop_4dvar pid=174604)\u001b[0m  [197.95393857 197.3394204  196.7958674 ]]\n"
     ]
    },
    {
     "name": "stderr",
     "output_type": "stream",
     "text": [
      "\u001b[36m(train_backprop_4dvar pid=175278)\u001b[0m /tmp/ipykernel_169542/1837075594.py:6: DeprecationWarning: jax.clear_backends is deprecated.\n"
     ]
    },
    {
     "name": "stdout",
     "output_type": "stream",
     "text": [
      "\u001b[36m(train_backprop_4dvar pid=175278)\u001b[0m  [151.61585216 151.55146328 151.49287799]\n",
      "\u001b[36m(train_backprop_4dvar pid=175278)\u001b[0m  [898.62833594 898.37422216 898.14297045]\n",
      "\u001b[36m(train_backprop_4dvar pid=175278)\u001b[0m  [783.4940789  783.28499972 783.09472328]\n",
      "\u001b[36m(train_backprop_4dvar pid=175278)\u001b[0m  [916.38875952 916.1667505  915.96470695]]\n",
      "\u001b[36m(train_backprop_4dvar pid=175278)\u001b[0m [[ 28.07867463  28.07144858  28.06487292]\n",
      "\u001b[36m(train_backprop_4dvar pid=175278)\u001b[0m  [ 71.54741615  71.51400017  71.48359644]\n",
      "\u001b[36m(train_backprop_4dvar pid=175278)\u001b[0m  ...\n"
     ]
    },
    {
     "name": "stderr",
     "output_type": "stream",
     "text": [
      "\u001b[36m(train_backprop_4dvar pid=175610)\u001b[0m /tmp/ipykernel_169542/1837075594.py:6: DeprecationWarning: jax.clear_backends is deprecated.\n"
     ]
    },
    {
     "name": "stdout",
     "output_type": "stream",
     "text": [
      "\u001b[36m(train_backprop_4dvar pid=175610)\u001b[0m [[ 28.07867463  27.96802021  27.92207406]\n",
      "\u001b[36m(train_backprop_4dvar pid=175610)\u001b[0m  [ 71.16309967  70.65448307  70.44372868]\n",
      "\u001b[36m(train_backprop_4dvar pid=175610)\u001b[0m  [149.5707017  148.59835972 148.19538909]\n",
      "\u001b[36m(train_backprop_4dvar pid=175610)\u001b[0m  ...\n",
      "\u001b[36m(train_backprop_4dvar pid=175610)\u001b[0m  [404.60990543 403.14143743 402.53100662]\n",
      "\u001b[36m(train_backprop_4dvar pid=175610)\u001b[0m  [269.52097317 268.46627122 268.02776845]\n",
      "\u001b[36m(train_backprop_4dvar pid=175610)\u001b[0m  [474.64260565 472.865109   472.12591576]]\n"
     ]
    },
    {
     "name": "stderr",
     "output_type": "stream",
     "text": [
      "\u001b[36m(train_backprop_4dvar pid=175908)\u001b[0m /tmp/ipykernel_169542/1837075594.py:6: DeprecationWarning: jax.clear_backends is deprecated.\n"
     ]
    },
    {
     "name": "stdout",
     "output_type": "stream",
     "text": [
      "\u001b[36m(train_backprop_4dvar pid=175908)\u001b[0m [[28.07867463 20.40680594 18.37526037]\n",
      "\u001b[36m(train_backprop_4dvar pid=175908)\u001b[0m  [36.71642512 20.58626618 17.93322187]\n",
      "\u001b[36m(train_backprop_4dvar pid=175908)\u001b[0m  [30.81212654 19.34242801 17.37349936]\n",
      "\u001b[36m(train_backprop_4dvar pid=175908)\u001b[0m  [13.43922756 11.67455148 11.15176768]\n",
      "\u001b[36m(train_backprop_4dvar pid=175908)\u001b[0m  [11.85292821  9.75606906  9.11168035]\n",
      "\u001b[36m(train_backprop_4dvar pid=175908)\u001b[0m  [ 4.13281062  3.33239705  3.1030025 ]]\n",
      "\u001b[36m(train_backprop_4dvar pid=175908)\u001b[0m  ...\n",
      "\u001b[36m(train_backprop_4dvar pid=175908)\u001b[0m \n"
     ]
    },
    {
     "name": "stderr",
     "output_type": "stream",
     "text": [
      "\u001b[36m(train_backprop_4dvar pid=176211)\u001b[0m /tmp/ipykernel_169542/1837075594.py:6: DeprecationWarning: jax.clear_backends is deprecated.\n"
     ]
    },
    {
     "name": "stdout",
     "output_type": "stream",
     "text": [
      "\u001b[36m(train_backprop_4dvar pid=176211)\u001b[0m [[ 28.07867463  26.90213716  26.19806853]\n",
      "\u001b[36m(train_backprop_4dvar pid=176211)\u001b[0m  [ 65.70196775  60.75008426  57.86266261]\n",
      "\u001b[36m(train_backprop_4dvar pid=176211)\u001b[0m  [122.2329138  113.82162631 108.90820591]\n",
      "\u001b[36m(train_backprop_4dvar pid=176211)\u001b[0m  ...\n",
      "\u001b[36m(train_backprop_4dvar pid=176211)\u001b[0m  [310.96593196 297.63808016 289.55845101]\n",
      "\u001b[36m(train_backprop_4dvar pid=176211)\u001b[0m  [223.31724365 214.82559955 209.6551506 ]\n",
      "\u001b[36m(train_backprop_4dvar pid=176211)\u001b[0m  [119.57849178 114.18900252 110.93657296]]\n"
     ]
    },
    {
     "name": "stderr",
     "output_type": "stream",
     "text": [
      "\u001b[36m(train_backprop_4dvar pid=176521)\u001b[0m /tmp/ipykernel_169542/1837075594.py:6: DeprecationWarning: jax.clear_backends is deprecated.\n"
     ]
    },
    {
     "name": "stdout",
     "output_type": "stream",
     "text": [
      "\u001b[36m(train_backprop_4dvar pid=176521)\u001b[0m [[ 28.07867463  61.54478706  25.47938382]\n",
      "\u001b[36m(train_backprop_4dvar pid=176521)\u001b[0m  [  2.7142332    3.7506663    2.39657495]]\u001b[32m [repeated 5x across cluster] (Ray deduplicates logs by default. Set RAY_DEDUP_LOGS=0 to disable log deduplication, or see https://docs.ray.io/en/master/ray-observability/user-guides/configure-logging.html#log-deduplication for more options.)\u001b[0m\n",
      "\u001b[36m(train_backprop_4dvar pid=176521)\u001b[0m  ...\n"
     ]
    },
    {
     "name": "stderr",
     "output_type": "stream",
     "text": [
      "\u001b[36m(train_backprop_4dvar pid=176836)\u001b[0m /tmp/ipykernel_169542/1837075594.py:6: DeprecationWarning: jax.clear_backends is deprecated.\n",
      "2024-06-11 14:55:43,547\tWARNING tune.py:219 -- Stop signal received (e.g. via SIGINT/Ctrl+C), ending Ray Tune run. This will try to checkpoint the experiment state one last time. Press CTRL+C (or send SIGINT/SIGKILL/SIGTERM) to skip. \n",
      "2024-06-11 14:55:43,578\tINFO tune.py:1009 -- Wrote the latest version of all result files and experiment state to '/home/ksolvik/ray_results/train_backprop_4dvar_2024-06-11_14-49-25' in 0.0272s.\n"
     ]
    },
    {
     "ename": "KeyboardInterrupt",
     "evalue": "",
     "output_type": "error",
     "traceback": [
      "\u001b[0;31m---------------------------------------------------------------------------\u001b[0m",
      "\u001b[0;31mKeyboardInterrupt\u001b[0m                         Traceback (most recent call last)",
      "Cell \u001b[0;32mIn[7], line 24\u001b[0m\n\u001b[1;32m     15\u001b[0m hyperopt_search \u001b[38;5;241m=\u001b[39m HyperOptSearch(space, metric\u001b[38;5;241m=\u001b[39m\u001b[38;5;124m\"\u001b[39m\u001b[38;5;124mrmse\u001b[39m\u001b[38;5;124m\"\u001b[39m, mode\u001b[38;5;241m=\u001b[39m\u001b[38;5;124m\"\u001b[39m\u001b[38;5;124mmin\u001b[39m\u001b[38;5;124m\"\u001b[39m)\n\u001b[1;32m     16\u001b[0m tuner \u001b[38;5;241m=\u001b[39m tune\u001b[38;5;241m.\u001b[39mTuner(\n\u001b[1;32m     17\u001b[0m     trainable_with_resources,\n\u001b[1;32m     18\u001b[0m     tune_config\u001b[38;5;241m=\u001b[39mtune\u001b[38;5;241m.\u001b[39mTuneConfig(\n\u001b[0;32m   (...)\u001b[0m\n\u001b[1;32m     21\u001b[0m     ),\n\u001b[1;32m     22\u001b[0m )\n\u001b[0;32m---> 24\u001b[0m results \u001b[38;5;241m=\u001b[39m \u001b[43mtuner\u001b[49m\u001b[38;5;241;43m.\u001b[39;49m\u001b[43mfit\u001b[49m\u001b[43m(\u001b[49m\u001b[43m)\u001b[49m\n\u001b[1;32m     26\u001b[0m cur_results_df \u001b[38;5;241m=\u001b[39m results\u001b[38;5;241m.\u001b[39mget_dataframe()\n\u001b[1;32m     27\u001b[0m cur_results_df[\u001b[38;5;124m'\u001b[39m\u001b[38;5;124msystem_dim\u001b[39m\u001b[38;5;124m'\u001b[39m] \u001b[38;5;241m=\u001b[39m system_dim\n",
      "File \u001b[0;32m~/miniconda3/envs/dab-test-packaging/lib/python3.11/site-packages/ray/tune/tuner.py:377\u001b[0m, in \u001b[0;36mTuner.fit\u001b[0;34m(self)\u001b[0m\n\u001b[1;32m    345\u001b[0m \u001b[38;5;250m\u001b[39m\u001b[38;5;124;03m\"\"\"Executes hyperparameter tuning job as configured and returns result.\u001b[39;00m\n\u001b[1;32m    346\u001b[0m \n\u001b[1;32m    347\u001b[0m \u001b[38;5;124;03mFailure handling:\u001b[39;00m\n\u001b[0;32m   (...)\u001b[0m\n\u001b[1;32m    373\u001b[0m \u001b[38;5;124;03m    RayTaskError: If user-provided trainable raises an exception\u001b[39;00m\n\u001b[1;32m    374\u001b[0m \u001b[38;5;124;03m\"\"\"\u001b[39;00m\n\u001b[1;32m    376\u001b[0m \u001b[38;5;28;01mif\u001b[39;00m \u001b[38;5;129;01mnot\u001b[39;00m \u001b[38;5;28mself\u001b[39m\u001b[38;5;241m.\u001b[39m_is_ray_client:\n\u001b[0;32m--> 377\u001b[0m     \u001b[38;5;28;01mreturn\u001b[39;00m \u001b[38;5;28;43mself\u001b[39;49m\u001b[38;5;241;43m.\u001b[39;49m\u001b[43m_local_tuner\u001b[49m\u001b[38;5;241;43m.\u001b[39;49m\u001b[43mfit\u001b[49m\u001b[43m(\u001b[49m\u001b[43m)\u001b[49m\n\u001b[1;32m    378\u001b[0m \u001b[38;5;28;01melse\u001b[39;00m:\n\u001b[1;32m    379\u001b[0m     (\n\u001b[1;32m    380\u001b[0m         progress_reporter,\n\u001b[1;32m    381\u001b[0m         string_queue,\n\u001b[1;32m    382\u001b[0m     ) \u001b[38;5;241m=\u001b[39m \u001b[38;5;28mself\u001b[39m\u001b[38;5;241m.\u001b[39m_prepare_remote_tuner_for_jupyter_progress_reporting()\n",
      "File \u001b[0;32m~/miniconda3/envs/dab-test-packaging/lib/python3.11/site-packages/ray/tune/impl/tuner_internal.py:476\u001b[0m, in \u001b[0;36mTunerInternal.fit\u001b[0;34m(self)\u001b[0m\n\u001b[1;32m    474\u001b[0m param_space \u001b[38;5;241m=\u001b[39m copy\u001b[38;5;241m.\u001b[39mdeepcopy(\u001b[38;5;28mself\u001b[39m\u001b[38;5;241m.\u001b[39mparam_space)\n\u001b[1;32m    475\u001b[0m \u001b[38;5;28;01mif\u001b[39;00m \u001b[38;5;129;01mnot\u001b[39;00m \u001b[38;5;28mself\u001b[39m\u001b[38;5;241m.\u001b[39m_is_restored:\n\u001b[0;32m--> 476\u001b[0m     analysis \u001b[38;5;241m=\u001b[39m \u001b[38;5;28;43mself\u001b[39;49m\u001b[38;5;241;43m.\u001b[39;49m\u001b[43m_fit_internal\u001b[49m\u001b[43m(\u001b[49m\u001b[43mtrainable\u001b[49m\u001b[43m,\u001b[49m\u001b[43m \u001b[49m\u001b[43mparam_space\u001b[49m\u001b[43m)\u001b[49m\n\u001b[1;32m    477\u001b[0m \u001b[38;5;28;01melse\u001b[39;00m:\n\u001b[1;32m    478\u001b[0m     analysis \u001b[38;5;241m=\u001b[39m \u001b[38;5;28mself\u001b[39m\u001b[38;5;241m.\u001b[39m_fit_resume(trainable, param_space)\n",
      "File \u001b[0;32m~/miniconda3/envs/dab-test-packaging/lib/python3.11/site-packages/ray/tune/impl/tuner_internal.py:592\u001b[0m, in \u001b[0;36mTunerInternal._fit_internal\u001b[0;34m(self, trainable, param_space)\u001b[0m\n\u001b[1;32m    579\u001b[0m \u001b[38;5;250m\u001b[39m\u001b[38;5;124;03m\"\"\"Fitting for a fresh Tuner.\"\"\"\u001b[39;00m\n\u001b[1;32m    580\u001b[0m args \u001b[38;5;241m=\u001b[39m {\n\u001b[1;32m    581\u001b[0m     \u001b[38;5;241m*\u001b[39m\u001b[38;5;241m*\u001b[39m\u001b[38;5;28mself\u001b[39m\u001b[38;5;241m.\u001b[39m_get_tune_run_arguments(trainable),\n\u001b[1;32m    582\u001b[0m     \u001b[38;5;241m*\u001b[39m\u001b[38;5;241m*\u001b[39m\u001b[38;5;28mdict\u001b[39m(\n\u001b[0;32m   (...)\u001b[0m\n\u001b[1;32m    590\u001b[0m     \u001b[38;5;241m*\u001b[39m\u001b[38;5;241m*\u001b[39m\u001b[38;5;28mself\u001b[39m\u001b[38;5;241m.\u001b[39m_tuner_kwargs,\n\u001b[1;32m    591\u001b[0m }\n\u001b[0;32m--> 592\u001b[0m analysis \u001b[38;5;241m=\u001b[39m \u001b[43mrun\u001b[49m\u001b[43m(\u001b[49m\n\u001b[1;32m    593\u001b[0m \u001b[43m    \u001b[49m\u001b[38;5;241;43m*\u001b[39;49m\u001b[38;5;241;43m*\u001b[39;49m\u001b[43margs\u001b[49m\u001b[43m,\u001b[49m\n\u001b[1;32m    594\u001b[0m \u001b[43m\u001b[49m\u001b[43m)\u001b[49m\n\u001b[1;32m    595\u001b[0m \u001b[38;5;28mself\u001b[39m\u001b[38;5;241m.\u001b[39mclear_remote_string_queue()\n\u001b[1;32m    596\u001b[0m \u001b[38;5;28;01mreturn\u001b[39;00m analysis\n",
      "File \u001b[0;32m~/miniconda3/envs/dab-test-packaging/lib/python3.11/site-packages/ray/tune/tune.py:1026\u001b[0m, in \u001b[0;36mrun\u001b[0;34m(run_or_experiment, name, metric, mode, stop, time_budget_s, config, resources_per_trial, num_samples, storage_path, storage_filesystem, search_alg, scheduler, checkpoint_config, verbose, progress_reporter, log_to_file, trial_name_creator, trial_dirname_creator, sync_config, export_formats, max_failures, fail_fast, restore, resume, resume_config, reuse_actors, raise_on_failed_trial, callbacks, max_concurrent_trials, keep_checkpoints_num, checkpoint_score_attr, checkpoint_freq, checkpoint_at_end, chdir_to_trial_dir, local_dir, _remote, _remote_string_queue, _entrypoint)\u001b[0m\n\u001b[1;32m   1022\u001b[0m     _report_air_progress(runner, air_progress_reporter, force\u001b[38;5;241m=\u001b[39m\u001b[38;5;28;01mTrue\u001b[39;00m)\n\u001b[1;32m   1024\u001b[0m all_trials \u001b[38;5;241m=\u001b[39m runner\u001b[38;5;241m.\u001b[39mget_trials()\n\u001b[0;32m-> 1026\u001b[0m \u001b[43mrunner\u001b[49m\u001b[38;5;241;43m.\u001b[39;49m\u001b[43mcleanup\u001b[49m\u001b[43m(\u001b[49m\u001b[43m)\u001b[49m\n\u001b[1;32m   1028\u001b[0m incomplete_trials \u001b[38;5;241m=\u001b[39m []\n\u001b[1;32m   1029\u001b[0m \u001b[38;5;28;01mfor\u001b[39;00m trial \u001b[38;5;129;01min\u001b[39;00m all_trials:\n",
      "File \u001b[0;32m~/miniconda3/envs/dab-test-packaging/lib/python3.11/site-packages/ray/tune/execution/tune_controller.py:1975\u001b[0m, in \u001b[0;36mTuneController.cleanup\u001b[0;34m(self)\u001b[0m\n\u001b[1;32m   1973\u001b[0m \u001b[38;5;28;01mdef\u001b[39;00m \u001b[38;5;21mcleanup\u001b[39m(\u001b[38;5;28mself\u001b[39m):\n\u001b[1;32m   1974\u001b[0m \u001b[38;5;250m    \u001b[39m\u001b[38;5;124;03m\"\"\"Cleanup trials and callbacks.\"\"\"\u001b[39;00m\n\u001b[0;32m-> 1975\u001b[0m     \u001b[38;5;28;43mself\u001b[39;49m\u001b[38;5;241;43m.\u001b[39;49m\u001b[43m_cleanup_trials\u001b[49m\u001b[43m(\u001b[49m\u001b[43m)\u001b[49m\n\u001b[1;32m   1976\u001b[0m     \u001b[38;5;28mself\u001b[39m\u001b[38;5;241m.\u001b[39mend_experiment_callbacks()\n",
      "File \u001b[0;32m~/miniconda3/envs/dab-test-packaging/lib/python3.11/site-packages/ray/tune/execution/tune_controller.py:803\u001b[0m, in \u001b[0;36mTuneController._cleanup_trials\u001b[0;34m(self)\u001b[0m\n\u001b[1;32m    799\u001b[0m     \u001b[38;5;28;01mif\u001b[39;00m _dedup_logs(\u001b[38;5;124m\"\u001b[39m\u001b[38;5;124mactor_manager_cleanup\u001b[39m\u001b[38;5;124m\"\u001b[39m, \u001b[38;5;28mstr\u001b[39m(start)):\n\u001b[1;32m    800\u001b[0m         logger\u001b[38;5;241m.\u001b[39mdebug(\n\u001b[1;32m    801\u001b[0m             \u001b[38;5;124m\"\u001b[39m\u001b[38;5;124mWaiting for actor manager to clean up final state [dedup]\u001b[39m\u001b[38;5;124m\"\u001b[39m\n\u001b[1;32m    802\u001b[0m         )\n\u001b[0;32m--> 803\u001b[0m     \u001b[38;5;28;43mself\u001b[39;49m\u001b[38;5;241;43m.\u001b[39;49m\u001b[43m_actor_manager\u001b[49m\u001b[38;5;241;43m.\u001b[39;49m\u001b[43mnext\u001b[49m\u001b[43m(\u001b[49m\u001b[43mtimeout\u001b[49m\u001b[38;5;241;43m=\u001b[39;49m\u001b[38;5;241;43m1\u001b[39;49m\u001b[43m)\u001b[49m\n\u001b[1;32m    805\u001b[0m logger\u001b[38;5;241m.\u001b[39mdebug(\u001b[38;5;124m\"\u001b[39m\u001b[38;5;124mForce cleanup of remaining actors\u001b[39m\u001b[38;5;124m\"\u001b[39m)\n\u001b[1;32m    806\u001b[0m \u001b[38;5;28mself\u001b[39m\u001b[38;5;241m.\u001b[39m_cleanup_stopping_actors(force_all\u001b[38;5;241m=\u001b[39m\u001b[38;5;28;01mTrue\u001b[39;00m)\n",
      "File \u001b[0;32m~/miniconda3/envs/dab-test-packaging/lib/python3.11/site-packages/ray/air/execution/_internal/actor_manager.py:213\u001b[0m, in \u001b[0;36mRayActorManager.next\u001b[0;34m(self, timeout)\u001b[0m\n\u001b[1;32m    210\u001b[0m all_futures \u001b[38;5;241m=\u001b[39m resource_futures \u001b[38;5;241m+\u001b[39m shuffled_state_futures \u001b[38;5;241m+\u001b[39m shuffled_task_futures\n\u001b[1;32m    212\u001b[0m start_wait \u001b[38;5;241m=\u001b[39m time\u001b[38;5;241m.\u001b[39mmonotonic()\n\u001b[0;32m--> 213\u001b[0m ready, _ \u001b[38;5;241m=\u001b[39m \u001b[43mray\u001b[49m\u001b[38;5;241;43m.\u001b[39;49m\u001b[43mwait\u001b[49m\u001b[43m(\u001b[49m\u001b[43mall_futures\u001b[49m\u001b[43m,\u001b[49m\u001b[43m \u001b[49m\u001b[43mnum_returns\u001b[49m\u001b[38;5;241;43m=\u001b[39;49m\u001b[38;5;241;43m1\u001b[39;49m\u001b[43m,\u001b[49m\u001b[43m \u001b[49m\u001b[43mtimeout\u001b[49m\u001b[38;5;241;43m=\u001b[39;49m\u001b[43mtimeout\u001b[49m\u001b[43m)\u001b[49m\n\u001b[1;32m    215\u001b[0m \u001b[38;5;28;01mif\u001b[39;00m \u001b[38;5;129;01mnot\u001b[39;00m ready:\n\u001b[1;32m    216\u001b[0m     \u001b[38;5;28;01mreturn\u001b[39;00m \u001b[38;5;28;01mFalse\u001b[39;00m\n",
      "File \u001b[0;32m~/miniconda3/envs/dab-test-packaging/lib/python3.11/site-packages/ray/_private/auto_init_hook.py:21\u001b[0m, in \u001b[0;36mwrap_auto_init.<locals>.auto_init_wrapper\u001b[0;34m(*args, **kwargs)\u001b[0m\n\u001b[1;32m     18\u001b[0m \u001b[38;5;129m@wraps\u001b[39m(fn)\n\u001b[1;32m     19\u001b[0m \u001b[38;5;28;01mdef\u001b[39;00m \u001b[38;5;21mauto_init_wrapper\u001b[39m(\u001b[38;5;241m*\u001b[39margs, \u001b[38;5;241m*\u001b[39m\u001b[38;5;241m*\u001b[39mkwargs):\n\u001b[1;32m     20\u001b[0m     auto_init_ray()\n\u001b[0;32m---> 21\u001b[0m     \u001b[38;5;28;01mreturn\u001b[39;00m \u001b[43mfn\u001b[49m\u001b[43m(\u001b[49m\u001b[38;5;241;43m*\u001b[39;49m\u001b[43margs\u001b[49m\u001b[43m,\u001b[49m\u001b[43m \u001b[49m\u001b[38;5;241;43m*\u001b[39;49m\u001b[38;5;241;43m*\u001b[39;49m\u001b[43mkwargs\u001b[49m\u001b[43m)\u001b[49m\n",
      "File \u001b[0;32m~/miniconda3/envs/dab-test-packaging/lib/python3.11/site-packages/ray/_private/client_mode_hook.py:103\u001b[0m, in \u001b[0;36mclient_mode_hook.<locals>.wrapper\u001b[0;34m(*args, **kwargs)\u001b[0m\n\u001b[1;32m    101\u001b[0m     \u001b[38;5;28;01mif\u001b[39;00m func\u001b[38;5;241m.\u001b[39m\u001b[38;5;18m__name__\u001b[39m \u001b[38;5;241m!=\u001b[39m \u001b[38;5;124m\"\u001b[39m\u001b[38;5;124minit\u001b[39m\u001b[38;5;124m\"\u001b[39m \u001b[38;5;129;01mor\u001b[39;00m is_client_mode_enabled_by_default:\n\u001b[1;32m    102\u001b[0m         \u001b[38;5;28;01mreturn\u001b[39;00m \u001b[38;5;28mgetattr\u001b[39m(ray, func\u001b[38;5;241m.\u001b[39m\u001b[38;5;18m__name__\u001b[39m)(\u001b[38;5;241m*\u001b[39margs, \u001b[38;5;241m*\u001b[39m\u001b[38;5;241m*\u001b[39mkwargs)\n\u001b[0;32m--> 103\u001b[0m \u001b[38;5;28;01mreturn\u001b[39;00m \u001b[43mfunc\u001b[49m\u001b[43m(\u001b[49m\u001b[38;5;241;43m*\u001b[39;49m\u001b[43margs\u001b[49m\u001b[43m,\u001b[49m\u001b[43m \u001b[49m\u001b[38;5;241;43m*\u001b[39;49m\u001b[38;5;241;43m*\u001b[39;49m\u001b[43mkwargs\u001b[49m\u001b[43m)\u001b[49m\n",
      "File \u001b[0;32m~/miniconda3/envs/dab-test-packaging/lib/python3.11/site-packages/ray/_private/worker.py:2844\u001b[0m, in \u001b[0;36mwait\u001b[0;34m(ray_waitables, num_returns, timeout, fetch_local)\u001b[0m\n\u001b[1;32m   2842\u001b[0m timeout \u001b[38;5;241m=\u001b[39m timeout \u001b[38;5;28;01mif\u001b[39;00m timeout \u001b[38;5;129;01mis\u001b[39;00m \u001b[38;5;129;01mnot\u001b[39;00m \u001b[38;5;28;01mNone\u001b[39;00m \u001b[38;5;28;01melse\u001b[39;00m \u001b[38;5;241m10\u001b[39m\u001b[38;5;241m*\u001b[39m\u001b[38;5;241m*\u001b[39m\u001b[38;5;241m6\u001b[39m\n\u001b[1;32m   2843\u001b[0m timeout_milliseconds \u001b[38;5;241m=\u001b[39m \u001b[38;5;28mint\u001b[39m(timeout \u001b[38;5;241m*\u001b[39m \u001b[38;5;241m1000\u001b[39m)\n\u001b[0;32m-> 2844\u001b[0m ready_ids, remaining_ids \u001b[38;5;241m=\u001b[39m \u001b[43mworker\u001b[49m\u001b[38;5;241;43m.\u001b[39;49m\u001b[43mcore_worker\u001b[49m\u001b[38;5;241;43m.\u001b[39;49m\u001b[43mwait\u001b[49m\u001b[43m(\u001b[49m\n\u001b[1;32m   2845\u001b[0m \u001b[43m    \u001b[49m\u001b[43mray_waitables\u001b[49m\u001b[43m,\u001b[49m\n\u001b[1;32m   2846\u001b[0m \u001b[43m    \u001b[49m\u001b[43mnum_returns\u001b[49m\u001b[43m,\u001b[49m\n\u001b[1;32m   2847\u001b[0m \u001b[43m    \u001b[49m\u001b[43mtimeout_milliseconds\u001b[49m\u001b[43m,\u001b[49m\n\u001b[1;32m   2848\u001b[0m \u001b[43m    \u001b[49m\u001b[43mworker\u001b[49m\u001b[38;5;241;43m.\u001b[39;49m\u001b[43mcurrent_task_id\u001b[49m\u001b[43m,\u001b[49m\n\u001b[1;32m   2849\u001b[0m \u001b[43m    \u001b[49m\u001b[43mfetch_local\u001b[49m\u001b[43m,\u001b[49m\n\u001b[1;32m   2850\u001b[0m \u001b[43m\u001b[49m\u001b[43m)\u001b[49m\n\u001b[1;32m   2851\u001b[0m \u001b[38;5;28;01mreturn\u001b[39;00m ready_ids, remaining_ids\n",
      "File \u001b[0;32mpython/ray/_raylet.pyx:3814\u001b[0m, in \u001b[0;36mray._raylet.CoreWorker.wait\u001b[0;34m()\u001b[0m\n",
      "File \u001b[0;32mpython/ray/_raylet.pyx:571\u001b[0m, in \u001b[0;36mray._raylet.check_status\u001b[0;34m()\u001b[0m\n",
      "\u001b[0;31mKeyboardInterrupt\u001b[0m: "
     ]
    }
   ],
   "source": [
    "all_results_df_list = []\n",
    "system_dim_list = [6, 20, 36, 72, 144, 256]\n",
    "\n",
    "for system_dim in system_dim_list:\n",
    "    tune_time_start = timer()\n",
    "    \n",
    "    trainable_with_system_dim = tune.with_parameters(train_backprop_4dvar, \n",
    "                                                     system_dim=system_dim,\n",
    "                                                     num_obs=int(system_dim/2),\n",
    "                                                     obs_sd=0.5\n",
    "                                                     )\n",
    "    \n",
    "    # Not running in parallel to get fairer time comparison against regular 4DVar\n",
    "    trainable_with_resources = tune.with_resources(trainable_with_system_dim, {\"cpu\": 16})\n",
    "    hyperopt_search = HyperOptSearch(space, metric=\"rmse\", mode=\"min\")\n",
    "    tuner = tune.Tuner(\n",
    "        trainable_with_resources,\n",
    "        tune_config=tune.TuneConfig(\n",
    "            num_samples=50,\n",
    "            search_alg=hyperopt_search,\n",
    "        ),\n",
    "    )\n",
    "    \n",
    "    results = tuner.fit()\n",
    "\n",
    "    cur_results_df = results.get_dataframe()\n",
    "    cur_results_df['system_dim'] = system_dim\n",
    "    tune_time = timer() - tune_time_start\n",
    "    cur_results_df['total_tune_time'] = tune_time\n",
    "\n",
    "    all_results_df_list.append(cur_results_df)"
   ]
  },
  {
   "cell_type": "code",
   "execution_count": null,
   "id": "d7d86181",
   "metadata": {},
   "outputs": [],
   "source": [
    "full_results_df = pd.concat(all_results_df_list)\n",
    "full_results_df.to_csv('./out/l96/raytune_l96_hessian_v4.csv')"
   ]
  },
  {
   "cell_type": "markdown",
   "id": "00fa3e37",
   "metadata": {},
   "source": [
    "### Experiments varying number of observations and obs error"
   ]
  },
  {
   "cell_type": "code",
   "execution_count": 10,
   "id": "11a293f6",
   "metadata": {},
   "outputs": [],
   "source": [
    "space = {\n",
    "    \"lr\": hp.loguniform(\"lr\", -5, 0),\n",
    "    \"lr_decay\": hp.uniform(\"lr_decay\", 0.1, 0.99),\n",
    "}"
   ]
  },
  {
   "cell_type": "code",
   "execution_count": null,
   "id": "295bcc3e",
   "metadata": {},
   "outputs": [
    {
     "data": {
      "text/html": [
       "<div class=\"tuneStatus\">\n",
       "  <div style=\"display: flex;flex-direction: row\">\n",
       "    <div style=\"display: flex;flex-direction: column;\">\n",
       "      <h3>Tune Status</h3>\n",
       "      <table>\n",
       "<tbody>\n",
       "<tr><td>Current time:</td><td>2024-06-11 15:01:06</td></tr>\n",
       "<tr><td>Running for: </td><td>00:00:55.77        </td></tr>\n",
       "<tr><td>Memory:      </td><td>14.8/30.2 GiB      </td></tr>\n",
       "</tbody>\n",
       "</table>\n",
       "    </div>\n",
       "    <div class=\"vDivider\"></div>\n",
       "    <div class=\"systemInfo\">\n",
       "      <h3>System Info</h3>\n",
       "      Using FIFO scheduling algorithm.<br>Logical resource usage: 12.0/16 CPUs, 0/0 GPUs\n",
       "    </div>\n",
       "    \n",
       "  </div>\n",
       "  <div class=\"hDivider\"></div>\n",
       "  <div class=\"trialStatus\">\n",
       "    <h3>Trial Status</h3>\n",
       "    <table>\n",
       "<thead>\n",
       "<tr><th>Trial name                   </th><th>status    </th><th>loc                 </th><th style=\"text-align: right;\">        lr</th><th style=\"text-align: right;\">  lr_decay</th><th style=\"text-align: right;\">  iter</th><th style=\"text-align: right;\">  total time (s)</th><th style=\"text-align: right;\">   rmse</th></tr>\n",
       "</thead>\n",
       "<tbody>\n",
       "<tr><td>train_backprop_4dvar_22e61c85</td><td>RUNNING   </td><td>192.168.0.249:180653</td><td style=\"text-align: right;\">0.0489818 </td><td style=\"text-align: right;\">  0.714696</td><td style=\"text-align: right;\">      </td><td style=\"text-align: right;\">                </td><td style=\"text-align: right;\">       </td></tr>\n",
       "<tr><td>train_backprop_4dvar_d7e9b92e</td><td>RUNNING   </td><td>192.168.0.249:180892</td><td style=\"text-align: right;\">0.00770761</td><td style=\"text-align: right;\">  0.28534 </td><td style=\"text-align: right;\">      </td><td style=\"text-align: right;\">                </td><td style=\"text-align: right;\">       </td></tr>\n",
       "<tr><td>train_backprop_4dvar_30ca3b4b</td><td>PENDING   </td><td>                    </td><td style=\"text-align: right;\">0.162636  </td><td style=\"text-align: right;\">  0.348245</td><td style=\"text-align: right;\">      </td><td style=\"text-align: right;\">                </td><td style=\"text-align: right;\">       </td></tr>\n",
       "<tr><td>train_backprop_4dvar_1362ac85</td><td>TERMINATED</td><td>192.168.0.249:179748</td><td style=\"text-align: right;\">0.065463  </td><td style=\"text-align: right;\">  0.752681</td><td style=\"text-align: right;\">     1</td><td style=\"text-align: right;\">         18.0214</td><td style=\"text-align: right;\">4.38151</td></tr>\n",
       "<tr><td>train_backprop_4dvar_afe521ea</td><td>TERMINATED</td><td>192.168.0.249:179866</td><td style=\"text-align: right;\">0.0761334 </td><td style=\"text-align: right;\">  0.310982</td><td style=\"text-align: right;\">     1</td><td style=\"text-align: right;\">         17.7332</td><td style=\"text-align: right;\">4.70712</td></tr>\n",
       "<tr><td>train_backprop_4dvar_360314a0</td><td>TERMINATED</td><td>192.168.0.249:180014</td><td style=\"text-align: right;\">0.935157  </td><td style=\"text-align: right;\">  0.110244</td><td style=\"text-align: right;\">     1</td><td style=\"text-align: right;\">         17.3901</td><td style=\"text-align: right;\">3.6583 </td></tr>\n",
       "<tr><td>train_backprop_4dvar_afe950b2</td><td>TERMINATED</td><td>192.168.0.249:180328</td><td style=\"text-align: right;\">0.0104742 </td><td style=\"text-align: right;\">  0.402635</td><td style=\"text-align: right;\">     1</td><td style=\"text-align: right;\">         15.4631</td><td style=\"text-align: right;\">5.1357 </td></tr>\n",
       "</tbody>\n",
       "</table>\n",
       "  </div>\n",
       "</div>\n",
       "<style>\n",
       ".tuneStatus {\n",
       "  color: var(--jp-ui-font-color1);\n",
       "}\n",
       ".tuneStatus .systemInfo {\n",
       "  display: flex;\n",
       "  flex-direction: column;\n",
       "}\n",
       ".tuneStatus td {\n",
       "  white-space: nowrap;\n",
       "}\n",
       ".tuneStatus .trialStatus {\n",
       "  display: flex;\n",
       "  flex-direction: column;\n",
       "}\n",
       ".tuneStatus h3 {\n",
       "  font-weight: bold;\n",
       "}\n",
       ".tuneStatus .hDivider {\n",
       "  border-bottom-width: var(--jp-border-width);\n",
       "  border-bottom-color: var(--jp-border-color0);\n",
       "  border-bottom-style: solid;\n",
       "}\n",
       ".tuneStatus .vDivider {\n",
       "  border-left-width: var(--jp-border-width);\n",
       "  border-left-color: var(--jp-border-color0);\n",
       "  border-left-style: solid;\n",
       "  margin: 0.5em 1em 0.5em 1em;\n",
       "}\n",
       "</style>\n"
      ],
      "text/plain": [
       "<IPython.core.display.HTML object>"
      ]
     },
     "metadata": {},
     "output_type": "display_data"
    }
   ],
   "source": [
    "all_results_df_list = []\n",
    "\n",
    "system_dim = 36\n",
    "num_obs_list = [6, 12, 18, 24, 30, 36]\n",
    "obs_error_list = [0.1, 0.2, 0.3, 0.4, 0.5, 0.75, 1.0, 1.5, 2.0]\n",
    "\n",
    "for obs_location_count in num_obs_list:\n",
    "    for obs_sd in obs_error_list:\n",
    "        tune_time_start = timer()\n",
    "        \n",
    "        trainable_with_system_dim = tune.with_parameters(train_backprop_4dvar, \n",
    "                                                         system_dim=system_dim,\n",
    "                                                         num_obs=obs_location_count,\n",
    "                                                         obs_sd=obs_sd\n",
    "                                                         )\n",
    "        trainable_with_resources = tune.with_resources(trainable_with_system_dim, {\"cpu\": 4})\n",
    "\n",
    "        hyperopt_search = HyperOptSearch(space, metric=\"rmse\", mode=\"min\")\n",
    "        tuner = tune.Tuner(\n",
    "            trainable_with_resources,\n",
    "            tune_config=tune.TuneConfig(\n",
    "                num_samples=20,\n",
    "                search_alg=hyperopt_search,\n",
    "            ),\n",
    "        )\n",
    "        \n",
    "        results = tuner.fit()\n",
    "\n",
    "        cur_results_df = results.get_dataframe()\n",
    "        cur_results_df['system_dim'] = system_dim\n",
    "        cur_results_df['num_obs'] = obs_location_count\n",
    "        cur_results_df['obs_sd'] = obs_sd\n",
    "        tune_time = timer() - tune_time_start\n",
    "        cur_results_df['total_tune_time'] = tune_time\n",
    "        \n",
    "        all_results_df_list.append(cur_results_df)\n"
   ]
  },
  {
   "cell_type": "code",
   "execution_count": null,
   "id": "cab57eee",
   "metadata": {},
   "outputs": [],
   "source": [
    "full_results_df = pd.concat(all_results_df_list)\n",
    "full_results_df.to_csv('./out/l96/raytune_werrors_heatmap_hessian_v4_alldims_bigger_error.csv')"
   ]
  }
 ],
 "metadata": {
  "kernelspec": {
   "display_name": "Python 3 (ipykernel)",
   "language": "python",
   "name": "python3"
  },
  "language_info": {
   "codemirror_mode": {
    "name": "ipython",
    "version": 3
   },
   "file_extension": ".py",
   "mimetype": "text/x-python",
   "name": "python",
   "nbconvert_exporter": "python",
   "pygments_lexer": "ipython3",
   "version": "3.11.0"
  }
 },
 "nbformat": 4,
 "nbformat_minor": 5
}
