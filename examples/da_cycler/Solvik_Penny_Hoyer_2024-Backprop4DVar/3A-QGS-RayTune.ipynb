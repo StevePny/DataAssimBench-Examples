{
 "cells": [
  {
   "cell_type": "markdown",
   "id": "3d3c2aaa",
   "metadata": {},
   "source": [
    "# 5. Example: 4DVar Backprop DA using Reservoir Computing ML Model on QGS Model - RayTune for HyperParams"
   ]
  },
  {
   "cell_type": "markdown",
   "id": "72d8db48",
   "metadata": {},
   "source": [
    "Using Reservoir Computing model macro-parameters from QGS/Jason Platt's paper: Platt, J. A., Wong, A., Clark, R., Penny, S. G. & Abarbanel, H. D. I. Robust forecasting using predictive generalized synchronization in reservoir computing. Chaos: An Interdisciplinary Journal of Nonlinear Science 31, 123118 (2021).\n"
   ]
  },
  {
   "cell_type": "code",
   "execution_count": null,
   "id": "04bc5ea0",
   "metadata": {},
   "outputs": [],
   "source": [
    "import dabench as dab\n",
    "import numpy as np\n",
    "import matplotlib.pyplot as plt\n",
    "from qgs.params.params import QgParams\n",
    "import pandas as pd\n",
    "\n",
    "from ray import train, tune\n",
    "from hyperopt import hp\n",
    "from ray.tune.search.hyperopt import HyperOptSearch"
   ]
  },
  {
   "cell_type": "code",
   "execution_count": null,
   "id": "43405647",
   "metadata": {},
   "outputs": [],
   "source": [
    "%%bash\n",
    "# Make output dir\n",
    "mkdir -p out/qgs"
   ]
  },
  {
   "cell_type": "code",
   "execution_count": null,
   "id": "fc85d3cf",
   "metadata": {},
   "outputs": [],
   "source": [
    "random_seed=50\n",
    "np_rng = np.random.default_rng(seed=random_seed)"
   ]
  },
  {
   "cell_type": "markdown",
   "id": "966987ba",
   "metadata": {},
   "source": [
    "## A. Create Nature Run"
   ]
  },
  {
   "cell_type": "code",
   "execution_count": null,
   "id": "402a15f9",
   "metadata": {},
   "outputs": [],
   "source": [
    "# Time parameters\n",
    "dt = 0.5\n",
    "# transient time to attractor\n",
    "transient_time = 1.e5\n",
    "# integration time on the attractor\n",
    "integration_time = 1.e4\n",
    "\n",
    "\n",
    "# Setting some model parameters\n",
    "# Model parameters instantiation with some non-default specs\n",
    "model_params = QgParams({'phi0_npi': np.deg2rad(50.)/np.pi, 'hd': 0.1})\n",
    "# Mode truncation at the wavenumber 2 in both x and y spatial coordinate\n",
    "model_params.set_atmospheric_channel_fourier_modes(2, 2)\n",
    "\n",
    "# Changing (increasing) the orography depth and the meridional temperature gradient\n",
    "model_params.ground_params.set_orography(0.2, 1)\n",
    "model_params.atemperature_params.set_thetas(0.2, 0)"
   ]
  },
  {
   "cell_type": "code",
   "execution_count": null,
   "id": "6e683136",
   "metadata": {},
   "outputs": [],
   "source": [
    "train_size = 100000\n",
    "transient_size = 1000\n",
    "valid_size = 10000\n",
    "test_size = 10000"
   ]
  },
  {
   "cell_type": "code",
   "execution_count": null,
   "id": "05690a1a",
   "metadata": {},
   "outputs": [],
   "source": [
    "nature_run = dab.data.QGS(model_params=model_params, store_as_jax=False, delta_t=dt,\n",
    "                          random_seed=random_seed)\n",
    "nature_run.generate(n_steps=200*1000, stride=1000, x0=np_rng.random(model_params.ndim)*0.001, mxstep=5000)\n",
    "x0 = nature_run.values[-1]"
   ]
  },
  {
   "cell_type": "code",
   "execution_count": null,
   "id": "09fe6252",
   "metadata": {},
   "outputs": [],
   "source": [
    "nature_run.generate(x0=x0, n_steps=(train_size +  valid_size + transient_size + test_size), mxstep=5000)"
   ]
  },
  {
   "cell_type": "code",
   "execution_count": null,
   "id": "43a7f9cb",
   "metadata": {},
   "outputs": [],
   "source": [
    "# NOTE: This raises a Parameter dimensional conversion warning that can be safely ignored\n",
    "nr_train, nr_valid, nr_transient_and_test = nature_run.split_train_valid_test(\n",
    "    train_size, valid_size, transient_size + test_size)\n",
    "nr_transient, nr_test, _ = nr_transient_and_test.split_train_valid_test(transient_size, test_size, 0)"
   ]
  },
  {
   "cell_type": "code",
   "execution_count": null,
   "id": "7df91b2e",
   "metadata": {},
   "outputs": [],
   "source": [
    "# Let's visualize the results\n",
    "fig, axes = plt.subplots(6, 1, sharex = True, figsize = (10, 8))\n",
    "for j, ax in enumerate(axes):\n",
    "    ax.plot(nr_test.times, nr_test.values[:,j], lw = 3, label = 'Nature Run')\n",
    "    ax.set_ylabel(r'$x_{:d}$'.format(j), fontsize = 16)\n",
    "#     ax.set_xlim(54000, 55000)"
   ]
  },
  {
   "cell_type": "markdown",
   "id": "17da64f2",
   "metadata": {},
   "source": [
    "## B. Generate Observations"
   ]
  },
  {
   "cell_type": "code",
   "execution_count": null,
   "id": "b0710308",
   "metadata": {},
   "outputs": [],
   "source": [
    "# First we need to calculate the per-variable SD for QGS model\n",
    "obs_sd_scale = 0.1\n",
    "per_variable_sd = np.std(nr_train.values, axis=0)\n",
    "obs_sd = 0.1*per_variable_sd"
   ]
  },
  {
   "cell_type": "code",
   "execution_count": null,
   "id": "183050db",
   "metadata": {},
   "outputs": [],
   "source": [
    "# Now we can define the observer:\n",
    "obs_qgs_test = dab.observer.Observer(\n",
    "    nr_test, # Data generator object\n",
    "    time_indices = np.arange(0, nr_test.time_dim, 3), # Observation every 5th timestep\n",
    "    random_location_count = 10,\n",
    "    error_bias = 0.0, \n",
    "    error_sd = obs_sd, \n",
    "    random_seed=93,\n",
    "    stationary_observers=True,\n",
    "    store_as_jax=False\n",
    ")\n",
    "\n",
    "# Now we can define the observer:\n",
    "obs_qgs_valid = dab.observer.Observer(\n",
    "    nr_valid, # Data generator object\n",
    "    time_indices = np.arange(0, nr_valid.time_dim, 3), # Observation every 5th timestep\n",
    "    random_location_count = 10,\n",
    "    error_bias = 0.0, \n",
    "    error_sd = obs_sd,  \n",
    "    random_seed=93,\n",
    "    stationary_observers=True,\n",
    "    store_as_jax=False\n",
    ")\n",
    "\n",
    "# Making observations\n",
    "obs_vec_valid = obs_qgs_valid.observe()\n",
    "obs_vec_test = obs_qgs_test.observe()"
   ]
  },
  {
   "cell_type": "markdown",
   "id": "648c5550",
   "metadata": {},
   "source": [
    "## C. Define and train model"
   ]
  },
  {
   "cell_type": "code",
   "execution_count": null,
   "id": "5a1d077e",
   "metadata": {},
   "outputs": [],
   "source": [
    "# Define model\n",
    "forecast_model = dab.model.RCModel(\n",
    "    system_dim=20, \n",
    "    reservoir_dim=2000, \n",
    "    input_dim=20, \n",
    "    sparse_adj_matrix=False, \n",
    "    sparsity=0.99,\n",
    "    readout_method='linear',\n",
    "    sigma=0.98765777241154,\n",
    "    sigma_bias = 0.675882947305197,\n",
    "    spectral_radius =  0.376752115791648, # SR \n",
    "    leak_rate=0.5343730100231164, # alpha\n",
    "    log_beta=-20.219432227197363)"
   ]
  },
  {
   "cell_type": "code",
   "execution_count": null,
   "id": "898051a1",
   "metadata": {},
   "outputs": [],
   "source": [
    "# # # Train: Takes a few minutes\n",
    "# forecast_model.weights_init()\n",
    "# forecast_model.train(nr_train)\n",
    "# forecast_model.save_weights('./out/qgs/rc_weights.pkl')"
   ]
  },
  {
   "cell_type": "code",
   "execution_count": null,
   "id": "2706449c",
   "metadata": {},
   "outputs": [],
   "source": [
    "# Shortcut: load the W_out weights from previous training\n",
    "weights_path = './out/qgs/rc_weights.pkl'\n",
    "forecast_model.weights_init()\n",
    "forecast_model.load_weights(weights_path)"
   ]
  },
  {
   "cell_type": "markdown",
   "id": "cbacc653",
   "metadata": {},
   "source": [
    "## D. Set up and run DA Cycler for validation period"
   ]
  },
  {
   "cell_type": "code",
   "execution_count": null,
   "id": "d5c6cecf",
   "metadata": {},
   "outputs": [],
   "source": [
    "# Getting standard deviation of reservoir state values for sigma_bg\n",
    "train_res_values = forecast_model.generate(nr_train.values)\n",
    "train_res_sd = np.std(train_res_values, axis=0)"
   ]
  },
  {
   "cell_type": "code",
   "execution_count": null,
   "id": "ee124499",
   "metadata": {},
   "outputs": [],
   "source": [
    "sigma_obs=obs_sd[obs_vec_valid.location_indices[0]]*1.25\n",
    "sigma_bg = 0.1*train_res_sd \n",
    "\n",
    "R = (sigma_obs**2)*np.identity(sigma_obs.shape[0])\n",
    "B = (sigma_bg**2)*np.identity(forecast_model.reservoir_dim)\n",
    "S = np.zeros((10, 20))\n",
    "S[np.arange(S.shape[0]), np.tile(obs_vec_valid.location_indices[0], 1)] = 1\n",
    "H = S @ forecast_model.Wout.T"
   ]
  },
  {
   "cell_type": "code",
   "execution_count": null,
   "id": "314ed8a2",
   "metadata": {},
   "outputs": [],
   "source": [
    "r0_original = forecast_model.update(forecast_model.generate(\n",
    "        nr_train.values[-1000:]\n",
    "        + np.random.normal(size = (1000, nr_train.system_dim), scale=obs_sd))[-1], nr_train.values[-1])"
   ]
  },
  {
   "cell_type": "code",
   "execution_count": null,
   "id": "d3fc17a2",
   "metadata": {},
   "outputs": [],
   "source": [
    "def raytune_v4d_bp_valid(config, num_iters, H, B, R, \n",
    "                         delta_t, forecast_model, r0_original,\n",
    "                         nr, obs_vec, sigma_obs):\n",
    "    \n",
    "    dc = dab.dacycler.Var4DBackprop(\n",
    "    system_dim=forecast_model.reservoir_dim,\n",
    "    delta_t=delta_t,\n",
    "    H=H,\n",
    "    B=B,\n",
    "    R=R,\n",
    "    learning_rate=config['lr'],\n",
    "    lr_decay=config['lr_decay'],\n",
    "    num_iters=num_iters,\n",
    "    model_obj=forecast_model,\n",
    "    obs_window_indices=[0,2,5,8],\n",
    "    steps_per_window=10, # 10 instead of 9 because inclusive of start and end\n",
    "    )\n",
    "    cur_tstep = 0\n",
    "\n",
    "    r0_sv = dab.vector.StateVector(\n",
    "        values=r0_original,\n",
    "        store_as_jax=True)\n",
    "\n",
    "    out_statevec = dc.cycle(\n",
    "        input_state = r0_sv,\n",
    "        start_time = nr.times[cur_tstep],\n",
    "        obs_vector = obs_vec,\n",
    "        analysis_window=4.5,\n",
    "        timesteps=int(nr_valid.time_dim/9)-2,\n",
    "        obs_error_sd=sigma_obs,\n",
    "        analysis_time_in_window=2.25)\n",
    "        \n",
    "    rmse = np.sqrt(np.mean(np.square(nr.values[:-19] - forecast_model.readout(out_statevec.values))))\n",
    "    \n",
    "    train.report({'rmse':rmse})"
   ]
  },
  {
   "cell_type": "markdown",
   "id": "41dee07e",
   "metadata": {},
   "source": [
    "### RayTune"
   ]
  },
  {
   "cell_type": "code",
   "execution_count": null,
   "id": "07538d0c",
   "metadata": {},
   "outputs": [],
   "source": [
    "space = {\n",
    "    \"lr\": hp.loguniform(\"lr\", -10, 0),\n",
    "    \"lr_decay\": hp.uniform(\"lr_decay\", 0.1, 0.99),\n",
    "}\n",
    "num_iters = 3"
   ]
  },
  {
   "cell_type": "code",
   "execution_count": null,
   "id": "3d1faa3c",
   "metadata": {},
   "outputs": [],
   "source": [
    "trainable_w_num_iters = tune.with_parameters(raytune_v4d_bp_valid, \n",
    "                                              delta_t=nature_run.delta_t,\n",
    "                                              num_iters=num_iters,\n",
    "                                              H=H,\n",
    "                                              B=B,\n",
    "                                              R=R,\n",
    "                                              forecast_model=forecast_model,\n",
    "                                              r0_original=r0_original,\n",
    "                                              sigma_obs=sigma_obs,\n",
    "                                              obs_vec=obs_vec_valid,\n",
    "                                              nr=nr_valid\n",
    "                                             )"
   ]
  },
  {
   "cell_type": "code",
   "execution_count": null,
   "id": "b0ce6e36-b1cb-450b-b2d6-6738414dce67",
   "metadata": {},
   "outputs": [],
   "source": [
    "hyperopt_search = HyperOptSearch(space, metric=\"rmse\", mode=\"min\")\n",
    "tuner = tune.Tuner(\n",
    "    trainable_w_num_iters,\n",
    "    tune_config=tune.TuneConfig(\n",
    "        num_samples=50,\n",
    "        max_concurrent_trials=1,\n",
    "        search_alg=hyperopt_search,\n",
    "    ),\n",
    ")\n",
    "results = tuner.fit()\n",
    "\n",
    "cur_results_df = results.get_dataframe()\n",
    "\n",
    "cur_results_df['num_iters'] = num_iters"
   ]
  },
  {
   "cell_type": "code",
   "execution_count": null,
   "id": "818b6bf5",
   "metadata": {},
   "outputs": [],
   "source": [
    "cur_results_df.to_csv('./out/qgs/raytune_qgs_v4_hessian.csv')"
   ]
  }
 ],
 "metadata": {
  "kernelspec": {
   "display_name": "Python 3 (ipykernel)",
   "language": "python",
   "name": "python3"
  },
  "language_info": {
   "codemirror_mode": {
    "name": "ipython",
    "version": 3
   },
   "file_extension": ".py",
   "mimetype": "text/x-python",
   "name": "python",
   "nbconvert_exporter": "python",
   "pygments_lexer": "ipython3",
   "version": "3.11.0"
  }
 },
 "nbformat": 4,
 "nbformat_minor": 5
}
