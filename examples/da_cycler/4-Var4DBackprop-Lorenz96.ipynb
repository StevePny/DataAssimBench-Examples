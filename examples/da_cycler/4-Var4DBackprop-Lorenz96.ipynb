{
 "cells": [
  {
   "cell_type": "markdown",
   "id": "3d3c2aaa",
   "metadata": {},
   "source": [
    "# 4. Example: 4DVar Backprop DA on Lorenz 96"
   ]
  },
  {
   "cell_type": "code",
   "execution_count": 24,
   "id": "04bc5ea0",
   "metadata": {},
   "outputs": [],
   "source": [
    "import dabench as dab\n",
    "import numpy as np\n",
    "import matplotlib.pyplot as plt\n",
    "from jax.scipy.sparse.linalg import bicgstabsearch\n",
    "from scipy.linalg import inv\n",
    "from scipy.sparse.linalg import aslinearoperator\n",
    "from copy import deepcopy\n",
    "import jax.numpy as jnp\n",
    "from jax import value_and_grad\n",
    "from IPython.lib.deepreload import reload\n",
    "import pickle\n",
    "\n",
    "from ray import train, tune\n",
    "from hyperopt import hp\n",
    "from ray.tune.search.hyperopt import HyperOptSearch"
   ]
  },
  {
   "cell_type": "code",
   "execution_count": 2,
   "id": "fc85d3cf",
   "metadata": {},
   "outputs": [],
   "source": [
    "random_seed = 50\n",
    "np_rng = np.random.default_rng(seed=random_seed)"
   ]
  },
  {
   "cell_type": "markdown",
   "id": "966987ba",
   "metadata": {},
   "source": [
    "## A. Create Nature Run"
   ]
  },
  {
   "cell_type": "code",
   "execution_count": 30,
   "id": "6e683136",
   "metadata": {},
   "outputs": [],
   "source": [
    "spinup_size = 10000\n",
    "val_size = 2000\n",
    "transient_size = 1000\n",
    "test_size = 2000\n",
    "system_dim = 36\n",
    "obs_location_count = round(system_dim/2)\n",
    "obs_sd = 0.5\n",
    "sigma_bg = 0.3\n",
    "sigma_obs = 0.625\n",
    "delta_t = 0.01\n",
    "analysis_window = 0.1\n",
    "analysis_time_in_window = 0.05"
   ]
  },
  {
   "cell_type": "code",
   "execution_count": 19,
   "id": "c13e0ccf-50f2-452f-bfc6-6d4d7a635341",
   "metadata": {},
   "outputs": [],
   "source": [
    "# First define data generator and generate data\n",
    "nature_run = dab.data.Lorenz96(system_dim=system_dim, delta_t=delta_t,\n",
    "                               store_as_jax=True, random_seed=random_seed)\n",
    "\n",
    "nature_run.generate(n_steps=(spinup_size + val_size + transient_size + test_size))\n",
    "nr_spinup, nr_valid, nr_transient_and_test = nature_run.split_train_valid_test(\n",
    "    spinup_size, val_size, transient_size + test_size)\n",
    "nr_transient, nr_test, _ = nr_transient_and_test.split_train_valid_test(\n",
    "    transient_size, test_size, 0)\n"
   ]
  },
  {
   "cell_type": "markdown",
   "id": "fcb8082b-c6b3-48a7-a897-2e8c141a0d09",
   "metadata": {},
   "source": [
    "## B. Define Forecast Model"
   ]
  },
  {
   "cell_type": "code",
   "execution_count": 20,
   "id": "35543440-5cc8-455f-8b30-a2950290b01d",
   "metadata": {},
   "outputs": [],
   "source": [
    "model_l96 = dab.data.Lorenz96(system_dim=system_dim, delta_t=delta_t, \n",
    "                              store_as_jax=True, random_seed=random_seed)\n",
    "\n",
    "class L96Model(dab.model.Model):                                                                       \n",
    "    \"\"\"Defines model wrapper for Lorenz96 to test forecasting.\"\"\"\n",
    "    def forecast(self, state_vec, n_steps):\n",
    "        self.model_obj.generate(x0=state_vec.values, n_steps=n_steps)\n",
    "        new_vals = self.model_obj.values \n",
    "\n",
    "        new_vec = dab.vector.StateVector(values=new_vals, store_as_jax=True)\n",
    "\n",
    "        return new_vec\n",
    "\n",
    "fc_model = L96Model(model_obj=model_l96)"
   ]
  },
  {
   "cell_type": "markdown",
   "id": "db52d597-9c30-4621-9f93-be873c81c108",
   "metadata": {},
   "source": [
    "## C. Create observer and DA matrices for validation set"
   ]
  },
  {
   "cell_type": "code",
   "execution_count": 21,
   "id": "4a6e0213-ef70-48d0-8bbf-918681b531f4",
   "metadata": {},
   "outputs": [],
   "source": [
    "\n",
    "# Now we can define the observer:\n",
    "obs_l96 = dab.observer.Observer(\n",
    "    nr_valid,\n",
    "    time_indices = np.arange(0, nr_valid.time_dim, 5),\n",
    "    random_location_count = obs_location_count,\n",
    "    error_bias = 0.0,\n",
    "    error_sd = obs_sd,\n",
    "    random_seed=random_seed,\n",
    "    stationary_observers=True,\n",
    "    store_as_jax=True\n",
    ")\n",
    "obs_vec_l96 = obs_l96.observe()\n",
    "\n",
    "# Making observations\n",
    "obs_vec_l96 = obs_l96.observe()\n",
    "\n",
    "### Set up DA matrices: H (observation), R (obs error), B (background error)\n",
    "H = np.zeros((obs_location_count, system_dim))\n",
    "H[np.arange(H.shape[0]), obs_vec_l96.location_indices[0]] = 1\n",
    "R = (sigma_obs**2)* np.identity(obs_location_count)\n",
    "B = (sigma_bg**2)*np.identity(system_dim)"
   ]
  },
  {
   "cell_type": "markdown",
   "id": "e15091f8-17bc-48b8-87c7-7372899ab46f",
   "metadata": {},
   "source": [
    "## D. RayTune to find learning rate and learning rate decay"
   ]
  },
  {
   "cell_type": "code",
   "execution_count": 39,
   "id": "46965cdb-62cb-49c5-b9e5-7cd16be6097d",
   "metadata": {},
   "outputs": [],
   "source": [
    "def run_4dvar_backprop(lr_config):\n",
    "    learning_rate = lr_config['learning_rate']\n",
    "    lr_decay = lr_config['lr_decay']\n",
    "    # Prep DA object\n",
    "    dc = dab.dacycler.Var4DBackprop(\n",
    "        system_dim=system_dim,\n",
    "        delta_t=nr_valid.delta_t,\n",
    "        H=H,\n",
    "        B=B,\n",
    "        R=R,\n",
    "        learning_rate=learning_rate,\n",
    "        lr_decay=lr_decay,\n",
    "        model_obj=fc_model,\n",
    "        obs_window_indices=[0,5,10],\n",
    "        steps_per_window=11, # 11 instead of 10 because inclusive of 0 and 11\n",
    "        )\n",
    "\n",
    "    # Generate initial conditions\n",
    "    cur_tstep = 0\n",
    "    x0_original = nr_valid.values[cur_tstep] + np_rng.normal(size=(system_dim,), \n",
    "                                                            scale=1)\n",
    "    x0_sv = dab.vector.StateVector(\n",
    "        values=x0_original,\n",
    "        store_as_jax=True)\n",
    "    \n",
    "    # Execute\n",
    "    out_statevec = dc.cycle(\n",
    "        input_state = x0_sv,\n",
    "        start_time = nr_valid.times[cur_tstep],\n",
    "        obs_vector = obs_vec_l96,\n",
    "        analysis_window=analysis_window,\n",
    "        timesteps=198,\n",
    "        obs_error_sd=sigma_obs,\n",
    "        analysis_time_in_window=analysis_time_in_window)\n",
    "    \n",
    "    rmse = np.sqrt(np.mean(np.square(nr_valid.values[:-20] - out_statevec.values)))\n",
    "\n",
    "    train.report({'rmse':rmse})"
   ]
  },
  {
   "cell_type": "code",
   "execution_count": 40,
   "id": "ea9c0bb0-c897-498f-bee6-8a91dbcdb1eb",
   "metadata": {},
   "outputs": [
    {
     "data": {
      "text/html": [
       "<div class=\"tuneStatus\">\n",
       "  <div style=\"display: flex;flex-direction: row\">\n",
       "    <div style=\"display: flex;flex-direction: column;\">\n",
       "      <h3>Tune Status</h3>\n",
       "      <table>\n",
       "<tbody>\n",
       "<tr><td>Current time:</td><td>2024-06-21 15:28:59</td></tr>\n",
       "<tr><td>Running for: </td><td>00:03:05.33        </td></tr>\n",
       "<tr><td>Memory:      </td><td>7.4/30.2 GiB       </td></tr>\n",
       "</tbody>\n",
       "</table>\n",
       "    </div>\n",
       "    <div class=\"vDivider\"></div>\n",
       "    <div class=\"systemInfo\">\n",
       "      <h3>System Info</h3>\n",
       "      Using FIFO scheduling algorithm.<br>Logical resource usage: 1.0/16 CPUs, 0/0 GPUs\n",
       "    </div>\n",
       "    \n",
       "  </div>\n",
       "  <div class=\"hDivider\"></div>\n",
       "  <div class=\"trialStatus\">\n",
       "    <h3>Trial Status</h3>\n",
       "    <table>\n",
       "<thead>\n",
       "<tr><th>Trial name                 </th><th>status    </th><th>loc                </th><th style=\"text-align: right;\">  learning_rate</th><th style=\"text-align: right;\">  lr_decay</th><th style=\"text-align: right;\">  iter</th><th style=\"text-align: right;\">  total time (s)</th><th style=\"text-align: right;\">    rmse</th></tr>\n",
       "</thead>\n",
       "<tbody>\n",
       "<tr><td>run_4dvar_backprop_673c7dc3</td><td>TERMINATED</td><td>192.168.1.97:226014</td><td style=\"text-align: right;\">    0.745799   </td><td style=\"text-align: right;\">  0.809063</td><td style=\"text-align: right;\">     1</td><td style=\"text-align: right;\">         6.31994</td><td style=\"text-align: right;\">0.415743</td></tr>\n",
       "<tr><td>run_4dvar_backprop_606ac3ff</td><td>TERMINATED</td><td>192.168.1.97:226112</td><td style=\"text-align: right;\">    0.00117245 </td><td style=\"text-align: right;\">  0.823186</td><td style=\"text-align: right;\">     1</td><td style=\"text-align: right;\">         6.49358</td><td style=\"text-align: right;\">4.78157 </td></tr>\n",
       "<tr><td>run_4dvar_backprop_6c2711ba</td><td>TERMINATED</td><td>192.168.1.97:226242</td><td style=\"text-align: right;\">    0.147453   </td><td style=\"text-align: right;\">  0.969142</td><td style=\"text-align: right;\">     1</td><td style=\"text-align: right;\">         6.5042 </td><td style=\"text-align: right;\">0.376743</td></tr>\n",
       "<tr><td>run_4dvar_backprop_cc693dc6</td><td>TERMINATED</td><td>192.168.1.97:226390</td><td style=\"text-align: right;\">    0.230598   </td><td style=\"text-align: right;\">  0.861168</td><td style=\"text-align: right;\">     1</td><td style=\"text-align: right;\">         6.73677</td><td style=\"text-align: right;\">0.35024 </td></tr>\n",
       "<tr><td>run_4dvar_backprop_870bafed</td><td>TERMINATED</td><td>192.168.1.97:226569</td><td style=\"text-align: right;\">    5.07984e-05</td><td style=\"text-align: right;\">  0.398777</td><td style=\"text-align: right;\">     1</td><td style=\"text-align: right;\">         6.57032</td><td style=\"text-align: right;\">4.88589 </td></tr>\n",
       "<tr><td>run_4dvar_backprop_ef30a7b1</td><td>TERMINATED</td><td>192.168.1.97:226695</td><td style=\"text-align: right;\">    0.000614408</td><td style=\"text-align: right;\">  0.181215</td><td style=\"text-align: right;\">     1</td><td style=\"text-align: right;\">         6.72395</td><td style=\"text-align: right;\">4.71815 </td></tr>\n",
       "<tr><td>run_4dvar_backprop_97a354ea</td><td>TERMINATED</td><td>192.168.1.97:226843</td><td style=\"text-align: right;\">    8.37834e-05</td><td style=\"text-align: right;\">  0.945128</td><td style=\"text-align: right;\">     1</td><td style=\"text-align: right;\">         6.46317</td><td style=\"text-align: right;\">4.92967 </td></tr>\n",
       "<tr><td>run_4dvar_backprop_73d6a704</td><td>TERMINATED</td><td>192.168.1.97:227001</td><td style=\"text-align: right;\">    0.00189957 </td><td style=\"text-align: right;\">  0.169936</td><td style=\"text-align: right;\">     1</td><td style=\"text-align: right;\">         6.47952</td><td style=\"text-align: right;\">4.6311  </td></tr>\n",
       "<tr><td>run_4dvar_backprop_25d4e4cc</td><td>TERMINATED</td><td>192.168.1.97:227143</td><td style=\"text-align: right;\">    0.289999   </td><td style=\"text-align: right;\">  0.330016</td><td style=\"text-align: right;\">     1</td><td style=\"text-align: right;\">         6.65484</td><td style=\"text-align: right;\">0.352524</td></tr>\n",
       "<tr><td>run_4dvar_backprop_b195ee6e</td><td>TERMINATED</td><td>192.168.1.97:227285</td><td style=\"text-align: right;\">    0.478601   </td><td style=\"text-align: right;\">  0.613413</td><td style=\"text-align: right;\">     1</td><td style=\"text-align: right;\">         6.60309</td><td style=\"text-align: right;\">0.342282</td></tr>\n",
       "<tr><td>run_4dvar_backprop_1ddfaae8</td><td>TERMINATED</td><td>192.168.1.97:227413</td><td style=\"text-align: right;\">    0.328038   </td><td style=\"text-align: right;\">  0.76356 </td><td style=\"text-align: right;\">     1</td><td style=\"text-align: right;\">         6.47221</td><td style=\"text-align: right;\">0.34371 </td></tr>\n",
       "<tr><td>run_4dvar_backprop_e8115a68</td><td>TERMINATED</td><td>192.168.1.97:227559</td><td style=\"text-align: right;\">    0.000100371</td><td style=\"text-align: right;\">  0.126414</td><td style=\"text-align: right;\">     1</td><td style=\"text-align: right;\">         6.37714</td><td style=\"text-align: right;\">4.82279 </td></tr>\n",
       "<tr><td>run_4dvar_backprop_cc9c0e84</td><td>TERMINATED</td><td>192.168.1.97:227716</td><td style=\"text-align: right;\">    0.00139337 </td><td style=\"text-align: right;\">  0.185881</td><td style=\"text-align: right;\">     1</td><td style=\"text-align: right;\">         6.42025</td><td style=\"text-align: right;\">4.77171 </td></tr>\n",
       "<tr><td>run_4dvar_backprop_e353e73c</td><td>TERMINATED</td><td>192.168.1.97:227845</td><td style=\"text-align: right;\">    0.00107812 </td><td style=\"text-align: right;\">  0.256644</td><td style=\"text-align: right;\">     1</td><td style=\"text-align: right;\">         6.68777</td><td style=\"text-align: right;\">4.96427 </td></tr>\n",
       "<tr><td>run_4dvar_backprop_f1139007</td><td>TERMINATED</td><td>192.168.1.97:227987</td><td style=\"text-align: right;\">    0.000168185</td><td style=\"text-align: right;\">  0.818107</td><td style=\"text-align: right;\">     1</td><td style=\"text-align: right;\">         6.55153</td><td style=\"text-align: right;\">4.75883 </td></tr>\n",
       "<tr><td>run_4dvar_backprop_027b19f6</td><td>TERMINATED</td><td>192.168.1.97:228136</td><td style=\"text-align: right;\">    0.0291298  </td><td style=\"text-align: right;\">  0.148981</td><td style=\"text-align: right;\">     1</td><td style=\"text-align: right;\">         6.51237</td><td style=\"text-align: right;\">4.05754 </td></tr>\n",
       "<tr><td>run_4dvar_backprop_f9b58591</td><td>TERMINATED</td><td>192.168.1.97:228277</td><td style=\"text-align: right;\">    0.147379   </td><td style=\"text-align: right;\">  0.267248</td><td style=\"text-align: right;\">     1</td><td style=\"text-align: right;\">         6.37108</td><td style=\"text-align: right;\">0.477455</td></tr>\n",
       "<tr><td>run_4dvar_backprop_68fe9827</td><td>TERMINATED</td><td>192.168.1.97:228437</td><td style=\"text-align: right;\">    0.000305008</td><td style=\"text-align: right;\">  0.662713</td><td style=\"text-align: right;\">     1</td><td style=\"text-align: right;\">         6.41922</td><td style=\"text-align: right;\">4.69638 </td></tr>\n",
       "<tr><td>run_4dvar_backprop_d964a421</td><td>TERMINATED</td><td>192.168.1.97:228579</td><td style=\"text-align: right;\">    0.000136483</td><td style=\"text-align: right;\">  0.639637</td><td style=\"text-align: right;\">     1</td><td style=\"text-align: right;\">         6.34081</td><td style=\"text-align: right;\">4.92235 </td></tr>\n",
       "<tr><td>run_4dvar_backprop_259c47ba</td><td>TERMINATED</td><td>192.168.1.97:228726</td><td style=\"text-align: right;\">    0.000638128</td><td style=\"text-align: right;\">  0.878889</td><td style=\"text-align: right;\">     1</td><td style=\"text-align: right;\">         6.33681</td><td style=\"text-align: right;\">4.79584 </td></tr>\n",
       "<tr><td>run_4dvar_backprop_01191ec3</td><td>TERMINATED</td><td>192.168.1.97:228870</td><td style=\"text-align: right;\">    0.027863   </td><td style=\"text-align: right;\">  0.500243</td><td style=\"text-align: right;\">     1</td><td style=\"text-align: right;\">         6.2409 </td><td style=\"text-align: right;\">4.1752  </td></tr>\n",
       "<tr><td>run_4dvar_backprop_6289acb0</td><td>TERMINATED</td><td>192.168.1.97:229011</td><td style=\"text-align: right;\">    0.0439804  </td><td style=\"text-align: right;\">  0.668776</td><td style=\"text-align: right;\">     1</td><td style=\"text-align: right;\">         6.40355</td><td style=\"text-align: right;\">2.79622 </td></tr>\n",
       "<tr><td>run_4dvar_backprop_93e796de</td><td>TERMINATED</td><td>192.168.1.97:229166</td><td style=\"text-align: right;\">    0.0067341  </td><td style=\"text-align: right;\">  0.534451</td><td style=\"text-align: right;\">     1</td><td style=\"text-align: right;\">         6.34907</td><td style=\"text-align: right;\">4.46402 </td></tr>\n",
       "<tr><td>run_4dvar_backprop_103c8b71</td><td>TERMINATED</td><td>192.168.1.97:229286</td><td style=\"text-align: right;\">    0.545396   </td><td style=\"text-align: right;\">  0.754697</td><td style=\"text-align: right;\">     1</td><td style=\"text-align: right;\">         6.30219</td><td style=\"text-align: right;\">0.344816</td></tr>\n",
       "<tr><td>run_4dvar_backprop_d86d1bc7</td><td>TERMINATED</td><td>192.168.1.97:229444</td><td style=\"text-align: right;\">    0.0646816  </td><td style=\"text-align: right;\">  0.719194</td><td style=\"text-align: right;\">     1</td><td style=\"text-align: right;\">         6.44385</td><td style=\"text-align: right;\">2.01723 </td></tr>\n",
       "<tr><td>run_4dvar_backprop_370ab09f</td><td>TERMINATED</td><td>192.168.1.97:229586</td><td style=\"text-align: right;\">    0.00671749 </td><td style=\"text-align: right;\">  0.448891</td><td style=\"text-align: right;\">     1</td><td style=\"text-align: right;\">         6.57388</td><td style=\"text-align: right;\">4.87895 </td></tr>\n",
       "<tr><td>run_4dvar_backprop_006a1a6e</td><td>TERMINATED</td><td>192.168.1.97:229713</td><td style=\"text-align: right;\">    0.808657   </td><td style=\"text-align: right;\">  0.592113</td><td style=\"text-align: right;\">     1</td><td style=\"text-align: right;\">         6.64623</td><td style=\"text-align: right;\">0.354709</td></tr>\n",
       "<tr><td>run_4dvar_backprop_2adca7b9</td><td>TERMINATED</td><td>192.168.1.97:229860</td><td style=\"text-align: right;\">    0.018026   </td><td style=\"text-align: right;\">  0.583827</td><td style=\"text-align: right;\">     1</td><td style=\"text-align: right;\">         6.36362</td><td style=\"text-align: right;\">4.34815 </td></tr>\n",
       "<tr><td>run_4dvar_backprop_5bc8ec7f</td><td>TERMINATED</td><td>192.168.1.97:230003</td><td style=\"text-align: right;\">    0.536338   </td><td style=\"text-align: right;\">  0.701682</td><td style=\"text-align: right;\">     1</td><td style=\"text-align: right;\">         6.34644</td><td style=\"text-align: right;\">0.345712</td></tr>\n",
       "<tr><td>run_4dvar_backprop_f872e553</td><td>TERMINATED</td><td>192.168.1.97:230162</td><td style=\"text-align: right;\">    0.0998207  </td><td style=\"text-align: right;\">  0.762417</td><td style=\"text-align: right;\">     1</td><td style=\"text-align: right;\">         6.6351 </td><td style=\"text-align: right;\">0.459532</td></tr>\n",
       "<tr><td>run_4dvar_backprop_95ddf9aa</td><td>TERMINATED</td><td>192.168.1.97:230287</td><td style=\"text-align: right;\">    0.338543   </td><td style=\"text-align: right;\">  0.898686</td><td style=\"text-align: right;\">     1</td><td style=\"text-align: right;\">         6.36011</td><td style=\"text-align: right;\">0.343799</td></tr>\n",
       "<tr><td>run_4dvar_backprop_0eb9a8a2</td><td>TERMINATED</td><td>192.168.1.97:230449</td><td style=\"text-align: right;\">    0.916901   </td><td style=\"text-align: right;\">  0.611461</td><td style=\"text-align: right;\">     1</td><td style=\"text-align: right;\">         6.37691</td><td style=\"text-align: right;\">0.33996 </td></tr>\n",
       "<tr><td>run_4dvar_backprop_f9b18cc8</td><td>TERMINATED</td><td>192.168.1.97:230578</td><td style=\"text-align: right;\">    0.0180168  </td><td style=\"text-align: right;\">  0.488185</td><td style=\"text-align: right;\">     1</td><td style=\"text-align: right;\">         6.28574</td><td style=\"text-align: right;\">4.31534 </td></tr>\n",
       "<tr><td>run_4dvar_backprop_3f20172f</td><td>TERMINATED</td><td>192.168.1.97:230736</td><td style=\"text-align: right;\">    0.146699   </td><td style=\"text-align: right;\">  0.979163</td><td style=\"text-align: right;\">     1</td><td style=\"text-align: right;\">         6.33464</td><td style=\"text-align: right;\">0.376142</td></tr>\n",
       "<tr><td>run_4dvar_backprop_02cabad7</td><td>TERMINATED</td><td>192.168.1.97:230884</td><td style=\"text-align: right;\">    0.822232   </td><td style=\"text-align: right;\">  0.4008  </td><td style=\"text-align: right;\">     1</td><td style=\"text-align: right;\">         6.56415</td><td style=\"text-align: right;\">0.344926</td></tr>\n",
       "<tr><td>run_4dvar_backprop_3e08f37f</td><td>TERMINATED</td><td>192.168.1.97:231029</td><td style=\"text-align: right;\">    0.00319218 </td><td style=\"text-align: right;\">  0.599709</td><td style=\"text-align: right;\">     1</td><td style=\"text-align: right;\">         6.39554</td><td style=\"text-align: right;\">4.57187 </td></tr>\n",
       "<tr><td>run_4dvar_backprop_162ec8cf</td><td>TERMINATED</td><td>192.168.1.97:231156</td><td style=\"text-align: right;\">    0.0802359  </td><td style=\"text-align: right;\">  0.400892</td><td style=\"text-align: right;\">     1</td><td style=\"text-align: right;\">         6.47949</td><td style=\"text-align: right;\">2.62874 </td></tr>\n",
       "<tr><td>run_4dvar_backprop_7e12f1e8</td><td>TERMINATED</td><td>192.168.1.97:231316</td><td style=\"text-align: right;\">    0.864301   </td><td style=\"text-align: right;\">  0.347451</td><td style=\"text-align: right;\">     1</td><td style=\"text-align: right;\">         6.57159</td><td style=\"text-align: right;\">0.341635</td></tr>\n",
       "<tr><td>run_4dvar_backprop_222a339a</td><td>TERMINATED</td><td>192.168.1.97:231442</td><td style=\"text-align: right;\">    0.194382   </td><td style=\"text-align: right;\">  0.554608</td><td style=\"text-align: right;\">     1</td><td style=\"text-align: right;\">         6.38851</td><td style=\"text-align: right;\">0.391571</td></tr>\n",
       "<tr><td>run_4dvar_backprop_84e1293c</td><td>TERMINATED</td><td>192.168.1.97:231600</td><td style=\"text-align: right;\">    0.510167   </td><td style=\"text-align: right;\">  0.443518</td><td style=\"text-align: right;\">     1</td><td style=\"text-align: right;\">         6.5923 </td><td style=\"text-align: right;\">0.336359</td></tr>\n",
       "<tr><td>run_4dvar_backprop_b742f3a8</td><td>TERMINATED</td><td>192.168.1.97:231732</td><td style=\"text-align: right;\">    0.0112125  </td><td style=\"text-align: right;\">  0.32132 </td><td style=\"text-align: right;\">     1</td><td style=\"text-align: right;\">         6.35975</td><td style=\"text-align: right;\">4.7904  </td></tr>\n",
       "<tr><td>run_4dvar_backprop_d7aff79c</td><td>TERMINATED</td><td>192.168.1.97:231874</td><td style=\"text-align: right;\">    0.902477   </td><td style=\"text-align: right;\">  0.352858</td><td style=\"text-align: right;\">     1</td><td style=\"text-align: right;\">         6.47753</td><td style=\"text-align: right;\">0.343899</td></tr>\n",
       "<tr><td>run_4dvar_backprop_5961c0f8</td><td>TERMINATED</td><td>192.168.1.97:232017</td><td style=\"text-align: right;\">    0.0472325  </td><td style=\"text-align: right;\">  0.443216</td><td style=\"text-align: right;\">     1</td><td style=\"text-align: right;\">         6.43237</td><td style=\"text-align: right;\">3.24027 </td></tr>\n",
       "<tr><td>run_4dvar_backprop_ed9b309d</td><td>TERMINATED</td><td>192.168.1.97:232159</td><td style=\"text-align: right;\">    0.00454039 </td><td style=\"text-align: right;\">  0.290699</td><td style=\"text-align: right;\">     1</td><td style=\"text-align: right;\">         6.41915</td><td style=\"text-align: right;\">4.88953 </td></tr>\n",
       "<tr><td>run_4dvar_backprop_8d897c88</td><td>TERMINATED</td><td>192.168.1.97:232306</td><td style=\"text-align: right;\">    0.232325   </td><td style=\"text-align: right;\">  0.510894</td><td style=\"text-align: right;\">     1</td><td style=\"text-align: right;\">         6.38769</td><td style=\"text-align: right;\">0.369022</td></tr>\n",
       "<tr><td>run_4dvar_backprop_7bb55bcf</td><td>TERMINATED</td><td>192.168.1.97:232450</td><td style=\"text-align: right;\">    0.45824    </td><td style=\"text-align: right;\">  0.455694</td><td style=\"text-align: right;\">     1</td><td style=\"text-align: right;\">         6.36551</td><td style=\"text-align: right;\">0.336511</td></tr>\n",
       "<tr><td>run_4dvar_backprop_89f54293</td><td>TERMINATED</td><td>192.168.1.97:232608</td><td style=\"text-align: right;\">    4.83497e-05</td><td style=\"text-align: right;\">  0.847288</td><td style=\"text-align: right;\">     1</td><td style=\"text-align: right;\">         6.43542</td><td style=\"text-align: right;\">4.9318  </td></tr>\n",
       "<tr><td>run_4dvar_backprop_1f6f4d82</td><td>TERMINATED</td><td>192.168.1.97:232750</td><td style=\"text-align: right;\">    0.107198   </td><td style=\"text-align: right;\">  0.222584</td><td style=\"text-align: right;\">     1</td><td style=\"text-align: right;\">         6.34316</td><td style=\"text-align: right;\">2.24394 </td></tr>\n",
       "<tr><td>run_4dvar_backprop_e2fb0f1c</td><td>TERMINATED</td><td>192.168.1.97:232898</td><td style=\"text-align: right;\">    0.384422   </td><td style=\"text-align: right;\">  0.459422</td><td style=\"text-align: right;\">     1</td><td style=\"text-align: right;\">         6.28393</td><td style=\"text-align: right;\">0.338276</td></tr>\n",
       "<tr><td>run_4dvar_backprop_b697e427</td><td>TERMINATED</td><td>192.168.1.97:233040</td><td style=\"text-align: right;\">    0.0113112  </td><td style=\"text-align: right;\">  0.111187</td><td style=\"text-align: right;\">     1</td><td style=\"text-align: right;\">         5.88429</td><td style=\"text-align: right;\">4.40121 </td></tr>\n",
       "</tbody>\n",
       "</table>\n",
       "  </div>\n",
       "</div>\n",
       "<style>\n",
       ".tuneStatus {\n",
       "  color: var(--jp-ui-font-color1);\n",
       "}\n",
       ".tuneStatus .systemInfo {\n",
       "  display: flex;\n",
       "  flex-direction: column;\n",
       "}\n",
       ".tuneStatus td {\n",
       "  white-space: nowrap;\n",
       "}\n",
       ".tuneStatus .trialStatus {\n",
       "  display: flex;\n",
       "  flex-direction: column;\n",
       "}\n",
       ".tuneStatus h3 {\n",
       "  font-weight: bold;\n",
       "}\n",
       ".tuneStatus .hDivider {\n",
       "  border-bottom-width: var(--jp-border-width);\n",
       "  border-bottom-color: var(--jp-border-color0);\n",
       "  border-bottom-style: solid;\n",
       "}\n",
       ".tuneStatus .vDivider {\n",
       "  border-left-width: var(--jp-border-width);\n",
       "  border-left-color: var(--jp-border-color0);\n",
       "  border-left-style: solid;\n",
       "  margin: 0.5em 1em 0.5em 1em;\n",
       "}\n",
       "</style>\n"
      ],
      "text/plain": [
       "<IPython.core.display.HTML object>"
      ]
     },
     "metadata": {},
     "output_type": "display_data"
    },
    {
     "name": "stderr",
     "output_type": "stream",
     "text": [
      "2024-06-21 15:28:59,244\tINFO tune.py:1009 -- Wrote the latest version of all result files and experiment state to '/home/ksolvik/ray_results/run_4dvar_backprop_2024-06-21_15-25-53' in 0.0108s.\n",
      "2024-06-21 15:28:59,256\tINFO tune.py:1041 -- Total run time: 185.35 seconds (185.32 seconds for the tuning loop).\n"
     ]
    }
   ],
   "source": [
    "# Define search space\n",
    "space = {\n",
    "    \"learning_rate\": hp.loguniform(\"lr\", -10, 0),\n",
    "    \"lr_decay\": hp.uniform(\"lr_decay\", 0.1, 0.99),\n",
    "}\n",
    "\n",
    "hyperopt_search = HyperOptSearch(space, metric=\"rmse\", mode=\"min\")\n",
    "tuner = tune.Tuner(\n",
    "    run_4dvar_backprop,\n",
    "    tune_config=tune.TuneConfig(\n",
    "        num_samples=50,\n",
    "        max_concurrent_trials=4,\n",
    "        search_alg=hyperopt_search,\n",
    "    ),\n",
    ")\n",
    "\n",
    "results = tuner.fit()"
   ]
  }
 ],
 "metadata": {
  "kernelspec": {
   "display_name": "Python 3 (ipykernel)",
   "language": "python",
   "name": "python3"
  },
  "language_info": {
   "codemirror_mode": {
    "name": "ipython",
    "version": 3
   },
   "file_extension": ".py",
   "mimetype": "text/x-python",
   "name": "python",
   "nbconvert_exporter": "python",
   "pygments_lexer": "ipython3",
   "version": "3.11.0"
  }
 },
 "nbformat": 4,
 "nbformat_minor": 5
}
