{
 "cells": [
  {
   "cell_type": "markdown",
   "id": "5ecf7043",
   "metadata": {},
   "source": [
    "# 3. Example: ETK DA using Reservoir Computing ML Model\n",
    "\n",
    "So far, our \"forecast model\" has been the same model used to generate the nature run data. In practical application, this isn't possible. In this example, we'll complicate things by training and using a Reservoir Computing Machine Learning Model. RC models are a type of relatively simple Neural Network that tend to perform very well in DA tasks.\n",
    "\n",
    "This directory contains a self-contained RCModel module, rc.py."
   ]
  },
  {
   "cell_type": "code",
   "execution_count": 1,
   "id": "04bc5ea0",
   "metadata": {},
   "outputs": [],
   "source": [
    "import dabench as dab\n",
    "import numpy as np\n",
    "import jax.numpy as jnp\n",
    "import matplotlib.pyplot as plt"
   ]
  },
  {
   "cell_type": "markdown",
   "id": "31e854ed",
   "metadata": {},
   "source": [
    "## A. Create Nature Run\n",
    "\n",
    "We'll create a nature run just like before, but since we're going to train the RC model we'll need to split the data into training and test datasets (with a transient dataset between the two to spinup the RC model). DataAssimBench has an easy way to split the nature run.\n",
    "\n"
   ]
  },
  {
   "cell_type": "code",
   "execution_count": 2,
   "id": "5dda7c68",
   "metadata": {},
   "outputs": [],
   "source": [
    "train_size = 100000\n",
    "transient_size = 1000\n",
    "test_size = 2000"
   ]
  },
  {
   "cell_type": "code",
   "execution_count": 3,
   "id": "3075d113",
   "metadata": {},
   "outputs": [],
   "source": [
    "nature_run = dab.data.Lorenz96(system_dim=6, delta_t=0.01, store_as_jax=True)"
   ]
  },
  {
   "cell_type": "code",
   "execution_count": 4,
   "id": "c0c49786",
   "metadata": {},
   "outputs": [],
   "source": [
    "nature_run.generate(n_steps=(train_size + transient_size + test_size))"
   ]
  },
  {
   "cell_type": "code",
   "execution_count": 5,
   "id": "653f9db9",
   "metadata": {},
   "outputs": [],
   "source": [
    "# Split into train/transient/test\n",
    "nr_train, nr_transient, nr_test = nature_run.split_train_valid_test(train_size, transient_size, test_size)"
   ]
  },
  {
   "cell_type": "markdown",
   "id": "74cbeab8",
   "metadata": {},
   "source": [
    "## B. Generate observations: Only on test set"
   ]
  },
  {
   "cell_type": "code",
   "execution_count": 6,
   "id": "a21298a5",
   "metadata": {},
   "outputs": [],
   "source": [
    "# Now we can define the observer:\n",
    "obs_l96 = dab.observer.Observer(\n",
    "    nr_test, # Data generator object\n",
    "    time_indices = np.arange(0, 2000, 5), # Observation every 5th timestep\n",
    "    random_location_count = 3, # We'll select 3 variables of the 6D l96 system for random sampling\n",
    "    stationary_observers=True, # The same variables will be used for at each observation timestep\n",
    "    error_bias = 0.0, # Mean for observation error, Gaussian/Normal distribution\n",
    "    error_sd = 0.5, # Standard deviation for observation error, Gaussian/Normal distribution\n",
    "    random_seed=91, # We can specify a random seed. Default is 99\n",
    "    store_as_jax=True\n",
    ")\n",
    "\n",
    "# Making observations\n",
    "obs_vec_l96 = obs_l96.observe()"
   ]
  },
  {
   "cell_type": "markdown",
   "id": "3c979fb6",
   "metadata": {},
   "source": [
    "## C. Define AND train model\n",
    "\n",
    "Now, unlike before, we also have to train our model. We'll use some methods built into the RCModel class."
   ]
  },
  {
   "cell_type": "code",
   "execution_count": 7,
   "id": "a9c6fe58",
   "metadata": {},
   "outputs": [],
   "source": [
    "forecast_model = dab.model.RCModel(system_dim=6, \n",
    "                reservoir_dim=1600, \n",
    "                input_dim=6, \n",
    "                sparse_adj_matrix=False, \n",
    "                sparsity=0.99,\n",
    "                readout_method='linear',\n",
    "                sigma=0.07,\n",
    "                spectral_radius = 0.1, \n",
    "                leak_rate=0.7,\n",
    "                log_beta=-18.41)"
   ]
  },
  {
   "cell_type": "code",
   "execution_count": 8,
   "id": "3b11537b",
   "metadata": {},
   "outputs": [],
   "source": [
    "forecast_model.weights_init()\n",
    "forecast_model.train(nr_train)"
   ]
  },
  {
   "cell_type": "markdown",
   "id": "e09ab898",
   "metadata": {},
   "source": [
    "Predict Forward to see how our model does without DA"
   ]
  },
  {
   "cell_type": "code",
   "execution_count": null,
   "id": "c4a19037",
   "metadata": {},
   "outputs": [],
   "source": [
    "forecast_model.generate(nr_test.values, save_states=True)  \n",
    "out_obj = forecast_model.predict(nr_test, delta_t = 0.01, n_steps = 1000, initial_index=1000, spinup_steps=1000)"
   ]
  },
  {
   "cell_type": "code",
   "execution_count": null,
   "id": "93e4cee2",
   "metadata": {},
   "outputs": [],
   "source": [
    "plt.plot(nr_test.values[:, 0])\n",
    "plt.plot(out_obj.values[:, 0])\n",
    "plt.axvline(1000, color='red')"
   ]
  },
  {
   "cell_type": "markdown",
   "id": "e133fac2",
   "metadata": {},
   "source": [
    "Wrap as dab.model.Model object. In this case, we'll be running the model in the \"reservoir dimension\" of the RC model (1600,). We can easily map to the system dimension using the readout() method when needed."
   ]
  },
  {
   "cell_type": "markdown",
   "id": "b00e2cb1",
   "metadata": {},
   "source": [
    "## D. Set up and run DA Cycler\n",
    "\n",
    "Next we setup and run the DA Cycler."
   ]
  },
  {
   "cell_type": "markdown",
   "id": "34be4733",
   "metadata": {},
   "source": [
    "### I. Observation Operator"
   ]
  },
  {
   "cell_type": "code",
   "execution_count": null,
   "id": "0d167f0a",
   "metadata": {
    "scrolled": false
   },
   "outputs": [],
   "source": [
    "S = jnp.zeros((6, 6))\n",
    "S = S.at[jnp.arange(S.shape[0]), np.tile(obs_vec_l96.location_indices[0], 2)\n",
    "             ].set(1)\n",
    "H = S @ forecast_model.Wout.T"
   ]
  },
  {
   "cell_type": "markdown",
   "id": "ac42abfa",
   "metadata": {},
   "source": [
    "### II. Define DA Cycler"
   ]
  },
  {
   "cell_type": "code",
   "execution_count": null,
   "id": "11b9204c",
   "metadata": {},
   "outputs": [],
   "source": [
    "dc = dab.dacycler.ETKF(system_dim=forecast_model.reservoir_dim,\n",
    "                   delta_t=nature_run.delta_t,\n",
    "                   H=H,\n",
    "                   model_obj=forecast_model, # Forecast model we created above\n",
    "                   ensemble_dim=10 # Ensemble dim for Ensemble Kalman Filter\n",
    "                  )\n"
   ]
  },
  {
   "cell_type": "markdown",
   "id": "4a76a6d6",
   "metadata": {},
   "source": [
    "### III.  Generate perturbed initial conditions"
   ]
  },
  {
   "cell_type": "code",
   "execution_count": null,
   "id": "4ff7fb57",
   "metadata": {},
   "outputs": [],
   "source": [
    "ics = jnp.stack([\n",
    "    forecast_model.generate(\n",
    "        nr_transient.values\n",
    "        + np.random.normal(size = (nr_transient.time_dim, nr_transient.system_dim), scale=3.0))[-1]\n",
    "    for i in range(10)])"
   ]
  },
  {
   "cell_type": "markdown",
   "id": "732dfdf3",
   "metadata": {},
   "source": [
    "### IV. Run DA Cycler"
   ]
  },
  {
   "cell_type": "code",
   "execution_count": null,
   "id": "98cb71a1",
   "metadata": {
    "scrolled": true
   },
   "outputs": [],
   "source": [
    "%%time\n",
    "\n",
    "# Needs to be at least 1 otherwise unequal number of obs per cycle\n",
    "cur_tstep = 1\n",
    "\n",
    "# ETKF input state is an ensemble with error\n",
    "etkf_x0 = dab.vector.StateVector(\n",
    "    values=ics,\n",
    "    store_as_jax=True)\n",
    "\n",
    "# Run cycler for 1500 timesteps\n",
    "out_statevec = dc.cycle(\n",
    "    input_state = etkf_x0,\n",
    "    start_time = nr_test.times[cur_tstep],\n",
    "    obs_vector = obs_vec_l96,\n",
    "    obs_error_sd = 1.0,\n",
    "    analysis_window=0.1, \n",
    "    timesteps=1500)"
   ]
  },
  {
   "cell_type": "markdown",
   "id": "bc28abf8",
   "metadata": {},
   "source": [
    "## V. Plot Results"
   ]
  },
  {
   "cell_type": "code",
   "execution_count": null,
   "id": "68e223ab",
   "metadata": {},
   "outputs": [],
   "source": [
    "# Transform to system space:\n",
    "out_statevals = np.zeros((out_statevec.time_dim, out_statevec.values.shape[1], 6))\n",
    "for i in range(out_statevec.values.shape[0]):\n",
    "    for j in range(out_statevec.values.shape[1]):\n",
    "        out_statevals[i, j] = forecast_model.readout(jnp.array(out_statevec.values[i,j]))"
   ]
  },
  {
   "cell_type": "code",
   "execution_count": null,
   "id": "6ee43208",
   "metadata": {},
   "outputs": [],
   "source": [
    "fig, axes = plt.subplots(6, 1, sharex = True, figsize = (10, 8))\n",
    "for j, ax in enumerate(axes):\n",
    "    ax.plot(out_statevec.times[:1500], nr_test.values[1:1501,j], lw = 3, label = 'True')\n",
    "    ax.errorbar(out_statevec.times[:1500], np.mean(out_statevals, axis=1)[:4000,j],\n",
    "                yerr=np.ptp(out_statevals, axis=1)[:1500,j], elinewidth=0.5, ecolor='red')\n",
    "    if j in obs_vec_l96.location_indices[0]:\n",
    "        ax.plot(obs_vec_l96.times[:300], obs_vec_l96.values[:300, np.where(j == obs_vec_l96.location_indices[0])[0]])\n",
    "    ax.set_ylabel(r'$x_{:d}$'.format(j), fontsize = 16)\n",
    "ax.set_xlabel('Time (s)')\n",
    "plt.show()"
   ]
  },
  {
   "cell_type": "code",
   "execution_count": null,
   "id": "3069a94a",
   "metadata": {},
   "outputs": [],
   "source": []
  }
 ],
 "metadata": {
  "kernelspec": {
   "display_name": "dab-installed",
   "language": "python",
   "name": "dab-installed"
  },
  "language_info": {
   "codemirror_mode": {
    "name": "ipython",
    "version": 3
   },
   "file_extension": ".py",
   "mimetype": "text/x-python",
   "name": "python",
   "nbconvert_exporter": "python",
   "pygments_lexer": "ipython3",
   "version": "3.10.8"
  }
 },
 "nbformat": 4,
 "nbformat_minor": 5
}
